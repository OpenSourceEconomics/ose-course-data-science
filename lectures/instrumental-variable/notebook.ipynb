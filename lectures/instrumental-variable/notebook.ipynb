{
 "cells": [
  {
   "cell_type": "code",
   "execution_count": 1,
   "metadata": {
    "nbsphinx": "hidden",
    "pycharm": {},
    "slideshow": {
     "slide_type": "skip"
    }
   },
   "outputs": [],
   "source": [
    "import statsmodels.formula.api as smf\n",
    "import pandas as pd\n",
    "import numpy as np\n",
    "\n",
    "from auxiliary import get_outcome_latent_groups\n",
    "from auxiliary import get_shares_latent_groups\n",
    "\n",
    "np.random.seed(123)"
   ]
  },
  {
   "cell_type": "markdown",
   "metadata": {},
   "source": [
    "# Instrumental variable estimators of causal effects"
   ]
  },
  {
   "cell_type": "markdown",
   "metadata": {
    "pycharm": {},
    "slideshow": {
     "slide_type": "slide"
    }
   },
   "source": [
    "**Overview**\n",
    "\n",
    "* Causal effect estimation with a binary IV\n",
    "\n",
    "* Traditional IV estimators\n",
    "\n",
    "* Instrumental variable estimators in the presence of individual-level heterogeneity\n",
    "\n",
    "* Conclusions"
   ]
  },
  {
   "cell_type": "markdown",
   "metadata": {},
   "source": [
    "### Causal effect estimation with a binary IV"
   ]
  },
  {
   "cell_type": "markdown",
   "metadata": {
    "pycharm": {},
    "slideshow": {
     "slide_type": "slide"
    }
   },
   "source": [
    "We consider the standard relationship\n",
    "\n",
    "\\begin{align*}\n",
    "Y = \\alpha + \\delta D +\\epsilon,\n",
    "\\end{align*}\n",
    "\n",
    "where $\\delta$ is the true causal effect that (for now) is assumed to be **constant**. \n",
    "\n",
    "<img src=\"material/fig-9-1.png\" width=\"500\" />\n",
    "\n",
    "\n",
    "* No conditioning estimator would effectively estimate the causal effect of $D$ on $Y$ because no observed variable satisfy the back-door criterion.\n",
    "\n",
    "* If perfect stratification cannot be be enacted with the available data, one possible solution is to find an exogenous source of variation that determines $Y$ only by way of the causal variable $D$. The causal effect is then estimated by measuring how much $Y$ varies with the proportion of the total variation in $D$ that is attributable to the exogenous variation. \n",
    "\n",
    "\\begin{align*}\n",
    "E[Y] = E[\\alpha + \\delta D + \\epsilon] = \\alpha + \\delta E[D] + E[\\epsilon]\n",
    "\\end{align*}\n",
    "\n",
    "We can rewrite this as a difference equation in $Z$:\n",
    "\n",
    "\\begin{align*}\n",
    "E[Y \\mid Z = 1] - E[Y \\mid Z = 0] = \\delta (E[D \\mid Z = 1] - E[D \\mid Z = 0]) + (E[\\epsilon \\mid Z = 1] - E[\\epsilon \\mid Z = 0]) \n",
    "\\end{align*}\n",
    "\n",
    "Then we divide both sides by $E[D \\mid Z = 1] - E[D \\mid Z = 0]$.\n",
    "\n",
    "\\begin{align*}\n",
    "\\frac{E[Y \\mid Z = 1] - E[Y \\mid Z = 0]}{E[D \\mid Z = 1] - E[D \\mid Z = 0]} =  \\frac{\\delta (E[D \\mid Z = 1] - E[D \\mid Z = 0]) + (E[\\epsilon \\mid Z = 1] - E[\\epsilon \\mid Z = 0])}{E[D \\mid Z = 1] - E[D \\mid Z = 0]}\n",
    "\\end{align*}\n",
    "\n",
    "If Figure 9.1 (a) is an accurate description of the causal structure, then $E[\\epsilon \\mid Z = 1] = E[\\epsilon \\mid Z = 0] = 0$.\n",
    "\n",
    "\\begin{align*}\n",
    "\\frac{E[Y \\mid Z = 1] - E[Y \\mid Z = 0]}{E[D \\mid Z = 1] - E[D \\mid Z = 0]}  = \\delta\n",
    "\\end{align*}\n",
    "\n",
    "\n",
    "\\begin{align*}\n",
    "\\hat{\\delta}_{IV, WALD} = \\frac{E[Y \\mid Z = 1] - E[Y \\mid Z = 0]}{E[D \\mid Z = 1] - E[D \\mid Z = 0]}\n",
    "\\end{align*}\n",
    "\n",
    "* The assumption that $\\delta$ is  an invariant structural effect is crucial for this result."
   ]
  },
  {
   "cell_type": "markdown",
   "metadata": {},
   "source": [
    "### Demonstration dataset"
   ]
  },
  {
   "cell_type": "markdown",
   "metadata": {
    "pycharm": {},
    "slideshow": {
     "slide_type": "slide"
    }
   },
   "source": [
    "We wish to determine whether private high school outperform public high schools as measured by $9^{th}$ grade achievement tests. There exists a school voucher program in the city that covers tuition in case one attends private school. However, there are budgetary limits and so the vouchers  are available only to 10\\% of students and allocated by a lottery.\n",
    "\n",
    "<img src=\"material/fig-table-9-1.png\" width=\"500\" />\n",
    "\n",
    "* Winning the lottery increases private school attendance."
   ]
  },
  {
   "cell_type": "code",
   "execution_count": 2,
   "metadata": {
    "pycharm": {},
    "slideshow": {
     "slide_type": "slide"
    }
   },
   "outputs": [],
   "source": [
    "def get_sample_iv_demonstration():\n",
    "    \"\"\"Simulates sample.\n",
    "\n",
    "    Simulates a sample of 10,000 individuals for the IV demonstration\n",
    "    based on the information provided in our textbook.\n",
    "\n",
    "    Notes:\n",
    "\n",
    "        The school administration distributed 1,000 vouchers for\n",
    "        private school attendance in order to shift students\n",
    "        from public into private school. The goals is to increase\n",
    "        educational achievement.\n",
    "\n",
    "    Args:\n",
    "        None\n",
    "\n",
    "    Returns:\n",
    "        A pandas Dataframe with the observable characteristics (Y, D, Z)\n",
    "        for all individuals.\n",
    "\n",
    "        Y: standardized test for 9th graders\n",
    "        D: private school attendance\n",
    "        Z: voucher available\n",
    "\n",
    "    \"\"\"\n",
    "    # We first initialize an empty Dataframe with 10,000 rowns and three\n",
    "    # columns.\n",
    "    columns = [\"Y\", \"D\", \"Z\"]\n",
    "    index = pd.Index(range(10000), name=\"Identifier\")\n",
    "    df = pd.DataFrame(columns=columns, index=index)\n",
    "\n",
    "    # We sample the exact number of individuals following the description\n",
    "    # in Table 9.2.\n",
    "    for i in range(10000):\n",
    "        if i < 8000:\n",
    "            y, d, z = np.random.normal(50), 0, 0\n",
    "        elif i < 9000:\n",
    "            y, d, z = np.random.normal(60), 1, 0\n",
    "        elif i < 9800:\n",
    "            y, d, z = np.random.normal(50), 0, 1\n",
    "        else:\n",
    "            # The lower mean for the observed outcome does indicate\n",
    "            # that those drawn into treatment due to the instrument\n",
    "            # only do have smaller gains compared to those that\n",
    "            # take the treatment regardless.\n",
    "            y, d, z = np.random.normal(58), 1, 1\n",
    "\n",
    "        df.loc[i, :] = [y, d, z]\n",
    "\n",
    "    # We shuffle all rows so we do not have the different subsamples\n",
    "    # grouped together.\n",
    "    df = df.sample(frac=1).reset_index(drop=True)\n",
    "\n",
    "    # We set the types of our columns for prettier formatting later.\n",
    "    df = df.astype(np.float)\n",
    "    df = df.astype({\"D\": np.int, \"Z\": np.int})\n",
    "\n",
    "    return df"
   ]
  },
  {
   "cell_type": "markdown",
   "metadata": {
    "pycharm": {},
    "slideshow": {
     "slide_type": "slide"
    }
   },
   "source": [
    "Let's have a look at the structure of the data."
   ]
  },
  {
   "cell_type": "code",
   "execution_count": 3,
   "metadata": {
    "pycharm": {},
    "slideshow": {
     "slide_type": "-"
    }
   },
   "outputs": [
    {
     "data": {
      "text/html": [
       "<div>\n",
       "<style scoped>\n",
       "    .dataframe tbody tr th:only-of-type {\n",
       "        vertical-align: middle;\n",
       "    }\n",
       "\n",
       "    .dataframe tbody tr th {\n",
       "        vertical-align: top;\n",
       "    }\n",
       "\n",
       "    .dataframe thead th {\n",
       "        text-align: right;\n",
       "    }\n",
       "</style>\n",
       "<table border=\"1\" class=\"dataframe\">\n",
       "  <thead>\n",
       "    <tr style=\"text-align: right;\">\n",
       "      <th></th>\n",
       "      <th>Y</th>\n",
       "      <th>D</th>\n",
       "      <th>Z</th>\n",
       "    </tr>\n",
       "  </thead>\n",
       "  <tbody>\n",
       "    <tr>\n",
       "      <th>0</th>\n",
       "      <td>48.606920</td>\n",
       "      <td>0</td>\n",
       "      <td>0</td>\n",
       "    </tr>\n",
       "    <tr>\n",
       "      <th>1</th>\n",
       "      <td>50.240003</td>\n",
       "      <td>0</td>\n",
       "      <td>0</td>\n",
       "    </tr>\n",
       "    <tr>\n",
       "      <th>2</th>\n",
       "      <td>49.377337</td>\n",
       "      <td>0</td>\n",
       "      <td>0</td>\n",
       "    </tr>\n",
       "    <tr>\n",
       "      <th>3</th>\n",
       "      <td>60.885880</td>\n",
       "      <td>1</td>\n",
       "      <td>0</td>\n",
       "    </tr>\n",
       "    <tr>\n",
       "      <th>4</th>\n",
       "      <td>50.160785</td>\n",
       "      <td>0</td>\n",
       "      <td>0</td>\n",
       "    </tr>\n",
       "  </tbody>\n",
       "</table>\n",
       "</div>"
      ],
      "text/plain": [
       "           Y  D  Z\n",
       "0  48.606920  0  0\n",
       "1  50.240003  0  0\n",
       "2  49.377337  0  0\n",
       "3  60.885880  1  0\n",
       "4  50.160785  0  0"
      ]
     },
     "execution_count": 3,
     "metadata": {},
     "output_type": "execute_result"
    }
   ],
   "source": [
    "df = get_sample_iv_demonstration()\n",
    "df.head()"
   ]
  },
  {
   "cell_type": "markdown",
   "metadata": {
    "pycharm": {},
    "slideshow": {
     "slide_type": "slide"
    }
   },
   "source": [
    "How about the conditional distribution of observed outcomes?"
   ]
  },
  {
   "cell_type": "code",
   "execution_count": 4,
   "metadata": {
    "pycharm": {},
    "slideshow": {
     "slide_type": "-"
    }
   },
   "outputs": [
    {
     "data": {
      "text/plain": [
       "D  Z\n",
       "0  0    50.009760\n",
       "   1    49.962199\n",
       "1  0    60.034692\n",
       "   1    58.072959\n",
       "Name: Y, dtype: float64"
      ]
     },
     "execution_count": 4,
     "metadata": {},
     "output_type": "execute_result"
    }
   ],
   "source": [
    "df.groupby([\"D\", \"Z\"])[\"Y\"].mean()"
   ]
  },
  {
   "cell_type": "markdown",
   "metadata": {
    "pycharm": {},
    "slideshow": {
     "slide_type": "slide"
    }
   },
   "source": [
    "We can always run an OLS regression first to get a rough sense of the data."
   ]
  },
  {
   "cell_type": "code",
   "execution_count": 5,
   "metadata": {
    "pycharm": {},
    "scrolled": true,
    "slideshow": {
     "slide_type": "-"
    }
   },
   "outputs": [
    {
     "data": {
      "text/html": [
       "<table class=\"simpletable\">\n",
       "<caption>OLS Regression Results</caption>\n",
       "<tr>\n",
       "  <th>Dep. Variable:</th>            <td>Y</td>        <th>  R-squared:         </th> <td>   0.904</td> \n",
       "</tr>\n",
       "<tr>\n",
       "  <th>Model:</th>                   <td>OLS</td>       <th>  Adj. R-squared:    </th> <td>   0.904</td> \n",
       "</tr>\n",
       "<tr>\n",
       "  <th>Method:</th>             <td>Least Squares</td>  <th>  F-statistic:       </th> <td>9.374e+04</td>\n",
       "</tr>\n",
       "<tr>\n",
       "  <th>Date:</th>             <td>Wed, 16 Jun 2021</td> <th>  Prob (F-statistic):</th>  <td>  0.00</td>  \n",
       "</tr>\n",
       "<tr>\n",
       "  <th>Time:</th>                 <td>08:40:03</td>     <th>  Log-Likelihood:    </th> <td> -14482.</td> \n",
       "</tr>\n",
       "<tr>\n",
       "  <th>No. Observations:</th>      <td> 10000</td>      <th>  AIC:               </th> <td>2.897e+04</td>\n",
       "</tr>\n",
       "<tr>\n",
       "  <th>Df Residuals:</th>          <td>  9998</td>      <th>  BIC:               </th> <td>2.898e+04</td>\n",
       "</tr>\n",
       "<tr>\n",
       "  <th>Df Model:</th>              <td>     1</td>      <th>                     </th>     <td> </td>    \n",
       "</tr>\n",
       "<tr>\n",
       "  <th>Covariance Type:</th>      <td>nonrobust</td>    <th>                     </th>     <td> </td>    \n",
       "</tr>\n",
       "</table>\n",
       "<table class=\"simpletable\">\n",
       "<tr>\n",
       "      <td></td>         <th>coef</th>     <th>std err</th>      <th>t</th>      <th>P>|t|</th>  <th>[0.025</th>    <th>0.975]</th>  \n",
       "</tr>\n",
       "<tr>\n",
       "  <th>Intercept</th> <td>   50.0054</td> <td>    0.011</td> <td> 4555.317</td> <td> 0.000</td> <td>   49.984</td> <td>   50.027</td>\n",
       "</tr>\n",
       "<tr>\n",
       "  <th>D</th>         <td>    9.7023</td> <td>    0.032</td> <td>  306.173</td> <td> 0.000</td> <td>    9.640</td> <td>    9.764</td>\n",
       "</tr>\n",
       "</table>\n",
       "<table class=\"simpletable\">\n",
       "<tr>\n",
       "  <th>Omnibus:</th>       <td>12.957</td> <th>  Durbin-Watson:     </th> <td>   2.022</td>\n",
       "</tr>\n",
       "<tr>\n",
       "  <th>Prob(Omnibus):</th> <td> 0.002</td> <th>  Jarque-Bera (JB):  </th> <td>  13.196</td>\n",
       "</tr>\n",
       "<tr>\n",
       "  <th>Skew:</th>          <td>-0.074</td> <th>  Prob(JB):          </th> <td> 0.00136</td>\n",
       "</tr>\n",
       "<tr>\n",
       "  <th>Kurtosis:</th>      <td> 3.100</td> <th>  Cond. No.          </th> <td>    3.13</td>\n",
       "</tr>\n",
       "</table><br/><br/>Notes:<br/>[1] Standard Errors assume that the covariance matrix of the errors is correctly specified."
      ],
      "text/plain": [
       "<class 'statsmodels.iolib.summary.Summary'>\n",
       "\"\"\"\n",
       "                            OLS Regression Results                            \n",
       "==============================================================================\n",
       "Dep. Variable:                      Y   R-squared:                       0.904\n",
       "Model:                            OLS   Adj. R-squared:                  0.904\n",
       "Method:                 Least Squares   F-statistic:                 9.374e+04\n",
       "Date:                Wed, 16 Jun 2021   Prob (F-statistic):               0.00\n",
       "Time:                        08:40:03   Log-Likelihood:                -14482.\n",
       "No. Observations:               10000   AIC:                         2.897e+04\n",
       "Df Residuals:                    9998   BIC:                         2.898e+04\n",
       "Df Model:                           1                                         \n",
       "Covariance Type:            nonrobust                                         \n",
       "==============================================================================\n",
       "                 coef    std err          t      P>|t|      [0.025      0.975]\n",
       "------------------------------------------------------------------------------\n",
       "Intercept     50.0054      0.011   4555.317      0.000      49.984      50.027\n",
       "D              9.7023      0.032    306.173      0.000       9.640       9.764\n",
       "==============================================================================\n",
       "Omnibus:                       12.957   Durbin-Watson:                   2.022\n",
       "Prob(Omnibus):                  0.002   Jarque-Bera (JB):               13.196\n",
       "Skew:                          -0.074   Prob(JB):                      0.00136\n",
       "Kurtosis:                       3.100   Cond. No.                         3.13\n",
       "==============================================================================\n",
       "\n",
       "Notes:\n",
       "[1] Standard Errors assume that the covariance matrix of the errors is correctly specified.\n",
       "\"\"\""
      ]
     },
     "execution_count": 5,
     "metadata": {},
     "output_type": "execute_result"
    }
   ],
   "source": [
    "rslt = smf.ols(formula=\"Y ~ D\", data=df).fit()\n",
    "rslt.summary()"
   ]
  },
  {
   "cell_type": "markdown",
   "metadata": {
    "pycharm": {},
    "slideshow": {
     "slide_type": "slide"
    }
   },
   "source": [
    "However, to exploiting the structure of the dataset, we rather want to compute the IV estimate."
   ]
  },
  {
   "cell_type": "code",
   "execution_count": 6,
   "metadata": {
    "pycharm": {},
    "slideshow": {
     "slide_type": "-"
    }
   },
   "outputs": [],
   "source": [
    "def get_wald_estimate(df):\n",
    "    \"\"\"Calculate Wald estimate.\n",
    "\n",
    "    Calculates the Wald estimate for the causal effect of treatment\n",
    "    on an observed outcome using a binary instrument.\n",
    "\n",
    "    Args:\n",
    "        df: A pandas DataFrame\n",
    "\n",
    "    Returns:\n",
    "        A float with the estimated causal effect.\n",
    "\n",
    "    \"\"\"\n",
    "    # We compute the average difference in observed outcomes.\n",
    "    average_outcome = df.groupby(\"Z\")[\"Y\"].mean().to_dict()\n",
    "    numerator = average_outcome[1] - average_outcome[0]\n",
    "\n",
    "    # We compute the average difference in treatment uptake.\n",
    "    average_treatment = df.groupby(\"Z\")[\"D\"].mean().to_dict()\n",
    "    denominator = average_treatment[1] - average_treatment[0]\n",
    "\n",
    "    rslt = numerator / denominator\n",
    "\n",
    "    return rslt"
   ]
  },
  {
   "cell_type": "markdown",
   "metadata": {
    "pycharm": {},
    "slideshow": {
     "slide_type": "slide"
    }
   },
   "source": [
    "So, let's see."
   ]
  },
  {
   "cell_type": "code",
   "execution_count": 7,
   "metadata": {
    "pycharm": {},
    "slideshow": {
     "slide_type": "-"
    }
   },
   "outputs": [
    {
     "name": "stdout",
     "output_type": "stream",
     "text": [
      " Wald estimate: 5.183\n"
     ]
    }
   ],
   "source": [
    "rslt = get_wald_estimate(df)\n",
    "print(\" Wald estimate: {:5.3f}\".format(rslt))"
   ]
  },
  {
   "cell_type": "markdown",
   "metadata": {},
   "source": [
    "### Traditional IV estimators"
   ]
  },
  {
   "cell_type": "markdown",
   "metadata": {
    "pycharm": {},
    "slideshow": {
     "slide_type": "slide"
    }
   },
   "source": [
    "We now move beyond a binary instrument.\n",
    "\n",
    "\n",
    "\\begin{align*}\n",
    "\\hat{\\delta}_{IV} \\equiv \\frac{Cov_N(y_i, z_i)}{Cov_N(d_i, z_i)}\n",
    "\\end{align*}\n",
    "\n",
    "Moving towards the population-level relationships:\n",
    "\n",
    "\\begin{align*}\n",
    "\\frac{Cov(Y, Z)}{Cov(D, Z)} & = \\frac{\\delta Cov(D, Z) + Cov[\\epsilon, Z]}{Cov(D, Z)} \\\\\n",
    "& = \\delta\n",
    "\\end{align*}\n",
    "\n",
    "\n",
    "So, this suggests that:\n",
    "\n",
    "\\begin{align*}\n",
    "\\frac{Cov_N(y_i, z_i)}{Cov_N(d_i, z_i)}  \\xrightarrow{p} \\delta\n",
    "\\end{align*}\n",
    "\n",
    "<img src=\"material/fig-9-2.png\" width=\"500\" />"
   ]
  },
  {
   "cell_type": "markdown",
   "metadata": {},
   "source": [
    "Returning to our simulated example, we can now apply the two-stage least squares (2SLS) estimator you are familiar with."
   ]
  },
  {
   "cell_type": "code",
   "execution_count": 8,
   "metadata": {},
   "outputs": [
    {
     "data": {
      "text/html": [
       "<table class=\"simpletable\">\n",
       "<caption>OLS Regression Results</caption>\n",
       "<tr>\n",
       "  <th>Dep. Variable:</th>            <td>Y</td>        <th>  R-squared:         </th> <td>   0.002</td> \n",
       "</tr>\n",
       "<tr>\n",
       "  <th>Model:</th>                   <td>OLS</td>       <th>  Adj. R-squared:    </th> <td>   0.002</td> \n",
       "</tr>\n",
       "<tr>\n",
       "  <th>Method:</th>             <td>Least Squares</td>  <th>  F-statistic:       </th> <td>   17.39</td> \n",
       "</tr>\n",
       "<tr>\n",
       "  <th>Date:</th>             <td>Wed, 16 Jun 2021</td> <th>  Prob (F-statistic):</th> <td>3.07e-05</td> \n",
       "</tr>\n",
       "<tr>\n",
       "  <th>Time:</th>                 <td>08:40:03</td>     <th>  Log-Likelihood:    </th> <td> -26171.</td> \n",
       "</tr>\n",
       "<tr>\n",
       "  <th>No. Observations:</th>      <td> 10000</td>      <th>  AIC:               </th> <td>5.235e+04</td>\n",
       "</tr>\n",
       "<tr>\n",
       "  <th>Df Residuals:</th>          <td>  9998</td>      <th>  BIC:               </th> <td>5.236e+04</td>\n",
       "</tr>\n",
       "<tr>\n",
       "  <th>Df Model:</th>              <td>     1</td>      <th>                     </th>     <td> </td>    \n",
       "</tr>\n",
       "<tr>\n",
       "  <th>Covariance Type:</th>      <td>nonrobust</td>    <th>                     </th>     <td> </td>    \n",
       "</tr>\n",
       "</table>\n",
       "<table class=\"simpletable\">\n",
       "<tr>\n",
       "      <td></td>         <th>coef</th>     <th>std err</th>      <th>t</th>      <th>P>|t|</th>  <th>[0.025</th>    <th>0.975]</th>  \n",
       "</tr>\n",
       "<tr>\n",
       "  <th>Intercept</th> <td>   50.5478</td> <td>    0.153</td> <td>  330.860</td> <td> 0.000</td> <td>   50.248</td> <td>   50.847</td>\n",
       "</tr>\n",
       "<tr>\n",
       "  <th>D_pred</th>    <td>    5.1830</td> <td>    1.243</td> <td>    4.170</td> <td> 0.000</td> <td>    2.747</td> <td>    7.619</td>\n",
       "</tr>\n",
       "</table>\n",
       "<table class=\"simpletable\">\n",
       "<tr>\n",
       "  <th>Omnibus:</th>       <td>3794.296</td> <th>  Durbin-Watson:     </th> <td>   1.993</td> \n",
       "</tr>\n",
       "<tr>\n",
       "  <th>Prob(Omnibus):</th>  <td> 0.000</td>  <th>  Jarque-Bera (JB):  </th> <td>11127.197</td>\n",
       "</tr>\n",
       "<tr>\n",
       "  <th>Skew:</th>           <td> 2.065</td>  <th>  Prob(JB):          </th> <td>    0.00</td> \n",
       "</tr>\n",
       "<tr>\n",
       "  <th>Kurtosis:</th>       <td> 6.107</td>  <th>  Cond. No.          </th> <td>    38.0</td> \n",
       "</tr>\n",
       "</table><br/><br/>Notes:<br/>[1] Standard Errors assume that the covariance matrix of the errors is correctly specified."
      ],
      "text/plain": [
       "<class 'statsmodels.iolib.summary.Summary'>\n",
       "\"\"\"\n",
       "                            OLS Regression Results                            \n",
       "==============================================================================\n",
       "Dep. Variable:                      Y   R-squared:                       0.002\n",
       "Model:                            OLS   Adj. R-squared:                  0.002\n",
       "Method:                 Least Squares   F-statistic:                     17.39\n",
       "Date:                Wed, 16 Jun 2021   Prob (F-statistic):           3.07e-05\n",
       "Time:                        08:40:03   Log-Likelihood:                -26171.\n",
       "No. Observations:               10000   AIC:                         5.235e+04\n",
       "Df Residuals:                    9998   BIC:                         5.236e+04\n",
       "Df Model:                           1                                         \n",
       "Covariance Type:            nonrobust                                         \n",
       "==============================================================================\n",
       "                 coef    std err          t      P>|t|      [0.025      0.975]\n",
       "------------------------------------------------------------------------------\n",
       "Intercept     50.5478      0.153    330.860      0.000      50.248      50.847\n",
       "D_pred         5.1830      1.243      4.170      0.000       2.747       7.619\n",
       "==============================================================================\n",
       "Omnibus:                     3794.296   Durbin-Watson:                   1.993\n",
       "Prob(Omnibus):                  0.000   Jarque-Bera (JB):            11127.197\n",
       "Skew:                           2.065   Prob(JB):                         0.00\n",
       "Kurtosis:                       6.107   Cond. No.                         38.0\n",
       "==============================================================================\n",
       "\n",
       "Notes:\n",
       "[1] Standard Errors assume that the covariance matrix of the errors is correctly specified.\n",
       "\"\"\""
      ]
     },
     "execution_count": 8,
     "metadata": {},
     "output_type": "execute_result"
    }
   ],
   "source": [
    "df[\"D_pred\"] = smf.ols(formula=\"D ~ Z\", data=df).fit().predict()\n",
    "smf.ols(formula=\"Y ~ D_pred\", data=df).fit().summary()"
   ]
  },
  {
   "cell_type": "markdown",
   "metadata": {},
   "source": [
    "Given the structure of our example, both estimators are equivalent. As of now, [statsmodels](https://www.statsmodels.org) does not provide good support for the instrumental variables estimation. That is true for a host of methods often used by economists. Often [linearmodels](https://bashtage.github.io/linearmodels/doc/index.html) provides a viable alternative."
   ]
  },
  {
   "cell_type": "code",
   "execution_count": 11,
   "metadata": {},
   "outputs": [
    {
     "data": {
      "text/html": [
       "<table class=\"simpletable\">\n",
       "<caption>IV-2SLS Estimation Summary</caption>\n",
       "<tr>\n",
       "  <th>Dep. Variable:</th>            <td>Y</td>        <th>  R-squared:         </th> <td>0.7076</td> \n",
       "</tr>\n",
       "<tr>\n",
       "  <th>Estimator:</th>             <td>IV-2SLS</td>     <th>  Adj. R-squared:    </th> <td>0.7075</td> \n",
       "</tr>\n",
       "<tr>\n",
       "  <th>No. Observations:</th>       <td>10000</td>      <th>  F-statistic:       </th> <td>77.109</td> \n",
       "</tr>\n",
       "<tr>\n",
       "  <th>Date:</th>             <td>Wed, Jun 16 2021</td> <th>  P-value (F-stat)   </th> <td>0.0000</td> \n",
       "</tr>\n",
       "<tr>\n",
       "  <th>Time:</th>                 <td>08:43:00</td>     <th>  Distribution:      </th> <td>chi2(1)</td>\n",
       "</tr>\n",
       "<tr>\n",
       "  <th>Cov. Estimator:</th>        <td>robust</td>      <th>                     </th>    <td></td>    \n",
       "</tr>\n",
       "<tr>\n",
       "  <th></th>                          <td></td>         <th>                     </th>    <td></td>    \n",
       "</tr>\n",
       "</table>\n",
       "<table class=\"simpletable\">\n",
       "<caption>Parameter Estimates</caption>\n",
       "<tr>\n",
       "    <td></td>    <th>Parameter</th> <th>Std. Err.</th> <th>T-stat</th> <th>P-value</th> <th>Lower CI</th> <th>Upper CI</th>\n",
       "</tr>\n",
       "<tr>\n",
       "  <th>const</th>  <td>50.548</td>    <td>0.0748</td>   <td>676.20</td> <td>0.0000</td>   <td>50.401</td>   <td>50.694</td> \n",
       "</tr>\n",
       "<tr>\n",
       "  <th>D</th>      <td>5.1830</td>    <td>0.5902</td>   <td>8.7812</td> <td>0.0000</td>   <td>4.0261</td>   <td>6.3398</td> \n",
       "</tr>\n",
       "</table><br/><br/>Endogenous: D<br/>Instruments: Z<br/>Robust Covariance (Heteroskedastic)<br/>Debiased: False<br/>id: 0x7f19084a4d60"
      ],
      "text/plain": [
       "                          IV-2SLS Estimation Summary                          \n",
       "==============================================================================\n",
       "Dep. Variable:                      Y   R-squared:                      0.7076\n",
       "Estimator:                    IV-2SLS   Adj. R-squared:                 0.7075\n",
       "No. Observations:               10000   F-statistic:                    77.109\n",
       "Date:                Wed, Jun 16 2021   P-value (F-stat)                0.0000\n",
       "Time:                        08:43:00   Distribution:                  chi2(1)\n",
       "Cov. Estimator:                robust                                         \n",
       "                                                                              \n",
       "                             Parameter Estimates                              \n",
       "==============================================================================\n",
       "            Parameter  Std. Err.     T-stat    P-value    Lower CI    Upper CI\n",
       "------------------------------------------------------------------------------\n",
       "const          50.548     0.0748     676.20     0.0000      50.401      50.694\n",
       "D              5.1830     0.5902     8.7812     0.0000      4.0261      6.3398\n",
       "==============================================================================\n",
       "\n",
       "Endogenous: D\n",
       "Instruments: Z\n",
       "Robust Covariance (Heteroskedastic)\n",
       "Debiased: False\n",
       "IVResults, id: 0x7f19084a4d60"
      ]
     },
     "execution_count": 11,
     "metadata": {},
     "output_type": "execute_result"
    }
   ],
   "source": [
    "from linearmodels import IV2SLS  # noqa: E402\n",
    "\n",
    "df[\"const\"] = 1\n",
    "IV2SLS(df[\"Y\"], df[\"const\"], df[\"D\"], df[\"Z\"]).fit()"
   ]
  },
  {
   "cell_type": "markdown",
   "metadata": {},
   "source": [
    "### Instrumental variable estimators in the presence of individual-level heterogeneity"
   ]
  },
  {
   "cell_type": "markdown",
   "metadata": {
    "pycharm": {},
    "slideshow": {
     "slide_type": "slide"
    }
   },
   "source": [
    "\\begin{align*}\n",
    "Y & = Y^0 + D (Y^1 - Y^0)  \\\\\n",
    "& = Y^0 + \\delta D \\\\\n",
    "& = \\mu^0 + \\delta D + \\nu^0,\n",
    "\\end{align*}\n",
    "\n",
    "where $\\mu^0 \\equiv E[Y^0]$ and $\\nu^0 \\equiv Y^0 - E[Y^0]$. Here, $\\delta$ now has a clear interpretation.\n",
    "\n",
    "We need to add a four-category latent variable $C$:\n",
    "\n",
    "\\begin{align*}\n",
    "\\text{Compliers (C = c)} & : D^{Z = 0} = 0 \\,\\text{and}\\, D^{Z = 1} = 1  \\\\\n",
    "\\text{Defiers (C = d)} & : D^{Z = 0} = 1 \\,\\text{and}\\, D^{Z = 1} = 0  \\\\\n",
    "\\text{Always takers (C = a)} & : D^{Z = 0} = 1 \\,\\text{and}\\, D^{Z = 1} = 1  \\\\\n",
    "\\text{Never takers (C = n)} & : D^{Z = 0} = 0 \\,\\text{and}\\, D^{Z = 1} = 0  \\\\\n",
    "\\end{align*}\n",
    "\n",
    "Analogously to the definition of the observed outcome, $Y$, the observed treatment indicator variable $D$ can then be defined as\n",
    "\n",
    "\\begin{align*}\n",
    "D & =  D^{Z = 0} + (D^{Z = 1} - D^{Z = 0}) Z \\\\\n",
    "&=  D^{Z = 0} + \\kappa Z \n",
    "\\end{align*}\n",
    "\n",
    "What is the value of $\\kappa$ for the different latent groups?\n",
    "\n",
    "**Identifying assumptions for the Local Average Treatment Effect**\n",
    "\n",
    "* Independence, $(Y^1, Y^0, D^{Z = 1}, D^{Z = 0}) \\perp \\!\\!\\! \\perp Z$\n",
    "\n",
    "* Nonzero effect of instrument, $\\kappa \\neq 0$ for at least some $i$\n",
    "\n",
    "* Monotonicty assumption, either $\\kappa \\geq 0$ for all $i$ or $\\kappa \\leq 0$ for all $i$\n",
    "\n",
    "If these assumptions are valid, then an instrument $Z$ identifies the $LATE$: the average treatment effect for the subset of the population whose treatment selection is induced by the treatment.\n",
    "\n",
    "\\begin{align*}\n",
    "\\hat{\\delta}_{IV,WALD} \\xrightarrow{p} E [\\delta \\mid C = c]\n",
    "\\end{align*}\n",
    "\n",
    "\n",
    "<img src=\"material/fig-table-9-2.png\" width=\"500\" />\n",
    "\n",
    "What can we learn about the different latent groups?\n",
    "\n",
    "* Monotonicity, there are no defiers\n",
    "\n",
    "* Independence, the same distribution of never takes, always takers, and compliers is present among voucher groups\n",
    "\n",
    "\n",
    "\\begin{align*}\n",
    "\\frac{Pr_N [d_i = 1, z_i = 0]}{Pr_N[z_i = 0]} \\xrightarrow{p} Pr[C = a] \\\\\n",
    "\\frac{Pr_N [d_i = 0, z_i = 1]}{Pr_N[z_i = 1]} \\xrightarrow{p} Pr[C = n] \\\\\n",
    "\\end{align*}\n",
    "\n",
    "We also know $Pr[C = d] = 0$ and thus\n",
    "\n",
    "\\begin{align*}\n",
    "1 - \\frac{Pr_N [d_i = 1, z_i = 0]}{Pr_N[z_i = 0]} - \\frac{Pr_N [d_i = 0, z_i = 1]}{Pr_N[z_i = 1]}\\xrightarrow{p} Pr[C = c] \\\\\n",
    "\\end{align*}\n",
    "\n",
    "\n",
    "<img src=\"material/fig-table-9-3.png\" width=\"500\" />\n",
    "\n",
    "How can we learn about the LATE from the information analyzed so far?\n",
    "\n",
    "\\begin{align*}\n",
    "E[\\delta \\mid C = c] = E [Y^1 - Y^0 \\mid C = c]\n",
    "\\end{align*}\n",
    "\n",
    "Let's start with the following:\n",
    "\n",
    "\\begin{align*}\n",
    "E[Y \\mid D = 1, Z = 1] & = \\frac{Pr[C = c]}{Pr[C = c] + Pr [C=a]} E[Y^1 \\mid C = c] \\\\ \n",
    "&+ \\frac{Pr[C = a]}{Pr[C = c] + Pr [C=a]} E[Y^1 \\mid C = a] \\\\\n",
    "&\\\\\n",
    "E[Y \\mid D = 0, Z = 0] & = \\frac{Pr[C = c]}{Pr[C = c] + Pr [C=n]} E[Y^0 \\mid C = c] \\\\\n",
    "& + \\frac{Pr[C = n]}{Pr[C = c] + Pr [C=n]} E[Y^0 \\mid C = n]\n",
    "\\end{align*}\n",
    "\n",
    "Note that we can consistent estimates for $E[Y^0 \\mid C = n]$ and $E[Y^1 \\mid C = a]$ are provided in the table directly.\n",
    "\n",
    "Now lets tie this back to the Wald estimator:\n",
    "\n",
    "\\begin{align*}\n",
    "\\hat{\\delta}_{IV, WALD} = \\frac{E[Y \\mid Z = 1] - E[Y \\mid Z = 0]}{E[D \\mid Z = 1] - E[D \\mid Z = 0]}\n",
    "\\end{align*}\n"
   ]
  },
  {
   "cell_type": "code",
   "execution_count": 12,
   "metadata": {
    "pycharm": {},
    "slideshow": {
     "slide_type": "slide"
    }
   },
   "outputs": [
    {
     "data": {
      "image/png": "[encoded data removed]",
      "text/plain": [
       "<Figure size 432x288 with 2 Axes>"
      ]
     },
     "metadata": {},
     "output_type": "display_data"
    }
   ],
   "source": [
    "get_shares_latent_groups()"
   ]
  },
  {
   "cell_type": "code",
   "execution_count": 13,
   "metadata": {
    "pycharm": {},
    "slideshow": {
     "slide_type": "slide"
    }
   },
   "outputs": [
    {
     "data": {
      "image/png": "[encoded data removed]",
      "text/plain": [
       "<Figure size 432x288 with 2 Axes>"
      ]
     },
     "metadata": {
      "needs_background": "light"
     },
     "output_type": "display_data"
    }
   ],
   "source": [
    "get_outcome_latent_groups()"
   ]
  },
  {
   "cell_type": "markdown",
   "metadata": {},
   "source": [
    "### Criticism"
   ]
  },
  {
   "cell_type": "markdown",
   "metadata": {
    "pycharm": {},
    "slideshow": {
     "slide_type": "slide"
    }
   },
   "source": [
    "* instrument-dependent parameter\n",
    "\n",
    "* limited policy-relevance"
   ]
  },
  {
   "cell_type": "markdown",
   "metadata": {},
   "source": [
    "### Discussion"
   ]
  },
  {
   "cell_type": "markdown",
   "metadata": {},
   "source": [
    "We revisit and discuss the discussion of the LATE's usefulness."
   ]
  },
  {
   "cell_type": "markdown",
   "metadata": {},
   "source": [
    "<img src=\"material/fig-angrist-1990-cover.png\" width=\"700\" />"
   ]
  },
  {
   "cell_type": "markdown",
   "metadata": {},
   "source": [
    "<img src=\"material/fig-angrist-1990-valid.png\" width=\"500\" />"
   ]
  },
  {
   "cell_type": "markdown",
   "metadata": {},
   "source": [
    "\n",
    "**Table of contents**\n",
    "\n",
    "* Introduction \n",
    "\n",
    "* Background and Data\n",
    "\n",
    "    * National Random Selection\n",
    "    \n",
    "    * Social Security Earnings Data\n",
    "    \n",
    "* The Effect of Draft Eligibility and Earnings\n",
    "\n",
    "* The Effect of Military Service on Earnings\n",
    "\n",
    "    * Estimates Using Draft Eligibility\n",
    "    \n",
    "    * Efficient Instrumental Variables Estimates\n",
    "    \n",
    "* Military Service of Labor Market Experience\n",
    "\n",
    "* Caveats\n",
    "\n",
    "    * Treatment Effect Heterogeneity\n",
    "    \n",
    "    * The Absence of Covariates\n",
    "    \n",
    "    * Earnings-Modifying Draft Avoidance Behavior\n",
    "    \n",
    "* Conclusions\n",
    "\n",
    "\n",
    "\n"
   ]
  },
  {
   "cell_type": "markdown",
   "metadata": {},
   "source": [
    "<img src=\"material/fig-angrist-krueger-1991-cover.png\" width=\"700\" />"
   ]
  },
  {
   "cell_type": "markdown",
   "metadata": {},
   "source": [
    "<img src=\"material/fig-angrist-krueger-1991-valid.png\" width=\"500\" />"
   ]
  },
  {
   "cell_type": "markdown",
   "metadata": {},
   "source": [
    "**Table of contents**\n",
    "\n",
    "* Introduction\n",
    "\n",
    "* Season of Birth, Compulsory Schooling, and Years of Education\n",
    "\n",
    "    * Direct Evidence and teh Effect of Compulsory Schooling Laws\n",
    "    \n",
    "    * Why do Compulsory Schooling Laws Work?\n",
    "\n",
    "* Estimating the Returns to Education\n",
    "\n",
    "    * TSLS Estimation\n",
    "    \n",
    "    * Allowing the Seasonal Pattern in Education to Vary by State of Birth\n",
    "    \n",
    "    * Estimates for Black Men\n",
    "    \n",
    "* Other Possible Effects of Season of Birth\n",
    "\n",
    "* Conclusions"
   ]
  },
  {
   "cell_type": "markdown",
   "metadata": {},
   "source": [
    "<img src=\"material/fig-rosenzweig-wolpin-2000-cover.png\" width=\"700\" />"
   ]
  },
  {
   "cell_type": "markdown",
   "metadata": {},
   "source": [
    "\n",
    "We discuss Rosenzweig & Wolpin (2000) in more detail because it provides a small structural economic model of schooling choice that allows to interpret the instrumental\n",
    "variable estimates of Angrist (1990) and Angrist & Krueger (1991).\n",
    "\n",
    "\\begin{align*}\\begin{array}{ll}\n",
    "a &\\text{age} \\\\\n",
    "y_a & \\text{earnings at age a} \\\\\n",
    "S & \\text{level of schooling attainment} \\\\\n",
    "X_a & \\text{work experience at age $a$} \\\\\n",
    "\\mu & \\text{ability} \\\\\n",
    "a_e & \\text{school entry age} \\\\\n",
    "a_\\kappa & \\text{minimum age to leave school}\\\\\n",
    "S_0 = a_\\kappa - a_e &  \\text{minimum schooling} \\\\\n",
    "c  & \\text{direct cost of education}\n",
    "\\end{array}\\end{align*}\n",
    "\n",
    "Wages are determined as follows:\n",
    "\\begin{align*}\n",
    "\\ln y_a = f(S, \\mu) + g(X_a, \\mu)\n",
    "\\end{align*}\n",
    "\n",
    "The authors assume that individuals work full-time after school and there is no uncertainty about wages. Individuals decide whether to pursue one additional year of schooling after the mandatory minimum. If they do so $s_1$ takes value one and zero otherwise. So, the final level of schooling is $S_1 = S_0 + s_1$. All individuals work $A$ periods in the labor market. Spending one additional year in school does not reduce total time in the labor market. However, it results in entering the labor market one year later as schooling precludes working. Ability is the only source of heterogeneity and distributed at random in the population.\n",
    "\n",
    "The individual's objective is to choose their final level of schooling such as to maximize their discounted lifetime earnings under the two scenarios $(V_1, V_0)$.\n",
    "\n",
    "\n",
    "\\begin{align*}\\begin{array}{ll}\n",
    "V_1(S_1 = 1 | S_0) &= -c + \\sum_{a=0}^{A-1} \\beta^{a + 1} y_a \\\\\n",
    "&= -c + \\sum_{a=0}^{A-1} \\beta^{a + 1} \\exp(f(S_0 + 1, \\mu) + g(a, \\mu)) \\\\\n",
    "&= -c + \\sum_{a=0}^{A-1} \\beta^{a + 1} \\exp(f(S_0 + 1, \\mu)) \\exp(g(a, \\mu)) \\\\\n",
    "&= -c + \\exp(f(S_0 + 1, \\mu)) \\sum_{a=0}^{A-1} \\beta^{a + 1} \\exp(g(a, \\mu))\n",
    "\\end{array}\\end{align*}\n",
    "\n",
    "\\begin{align*}\n",
    "V_1(S_1 = 0 | S_0) &= \\sum_{a=0}^{A-1} \\beta^a y_a \\\\\n",
    "&= \\exp(f(S_0, \\mu)) \\sum_{a=0}^{A-1} \\beta^a \\exp(g(a, \\mu))\n",
    "\\end{align*}\n",
    "\n",
    "We now turn attention to the decision rule $V_1 > V_0$ implies further pursuit of education.\n",
    "\n",
    "\\begin{align*}\\begin{array}{ll}\n",
    "-c + \\exp(f(S_0 + 1, \\mu) \\sum_{a=0}^{A-1} \\beta^{a + 1} \\exp(g(a, \\mu)) \\\\\n",
    "> \\exp(f(S_0 + 1, \\mu)) \\sum_{a=0}^{A-1} \\beta^a \\exp(g(a, \\mu) \\\\[20pt]\n",
    "-c + \\exp(f(S_0 + 1, \\mu) \\sum_{a=0}^{A-1} \\beta^{a + 1} \\exp(g(a, \\mu)) \\\\\n",
    "> \\underbrace{\\exp(f(S_0 + 1, \\mu)) \\sum_{a=0}^{A-1} \\beta^a \\exp(g(a, \\mu)}_{V_1(S_1 = 0 | S_0)}\n",
    "\\end{array}\\end{align*}\n",
    "\n",
    "now divide by $V_1(S_1 = 0 | S_0)$\n",
    "\n",
    "\\begin{align*}\\begin{array}{ll}\n",
    "\\frac{\\exp(f(S_0 + 1, \\mu))}{\\exp(f(S_0, \\mu))} \\beta &> 1 + \\frac{c}{V_1(S_1 = 0 | S_0)} \\\\\n",
    "&> (1 + \\frac{c}{V_1(S_1 = 0 | S_0)}) (1 + r) \\\\\n",
    "f(S_0 + 1, \\mu) - f(S_0, \\mu) &> r + \\frac{c}{V_1(S_1 = 0 | S_0)}\n",
    "\\end{array}\\end{align*}\n",
    "\n",
    "using $\\ln (1 + x) \\approx x$ for small $x$.\n",
    "\n",
    "\n",
    "\n",
    "\\begin{align*}\n",
    "s_1 = \\begin{cases}\n",
    "1 & \\text{if}\\quad f(S_0 + 1, \\mu) - f(S_0, \\mu) \\geq r + \\ln\\left(\\frac{c}{V_1(s_1 = 0 \\mid S_0)} + 1\\right) \\\\\n",
    "0 & \\text{otherwise}\n",
    "\\end{cases}\n",
    "\\end{align*}\n",
    "\n",
    "If ability increases the marginal schooling return, then there exists a unique cutoff value for ability $\\mu^*$ such that individuals with ability above the cutoff continue schooling while those below do not.\n",
    "\n",
    "\\begin{align*}\n",
    "\\frac{\\partial f(S_0 + 1, \\mu) - f(S_0, \\mu)}{\\partial \\mu} > 0\n",
    "\\end{align*}\n",
    "\n",
    "\n",
    "Even if randomly assigned, optimizing behavior induces an association between schooling and ability. This generates the ability bias.\n",
    "%\n",
    "\\begin{align*}\n",
    "E[ f(S_0 + 1, \\mu)  \\mid \\mu > \\mu^*] - E[ f(S_0, \\mu)  \\mid \\mu < \\mu^*] > E[ f(S_0 + 1, \\mu) ] - E[ f(S_0, \\mu)]\n",
    "\\end{align*}\n",
    "\n",
    "We now turn to the development of the Wald estimator Wald (1940). So, we first derive expected earnings equation for each age $a$.\n",
    "\n",
    "\\begin{align*}\n",
    "E[\\ln y_a] = \\pi_1 [f(S_0 + 1, \\mu_1) + g(a - a_\\kappa - 1, \\mu_1)]\n",
    "+ (1 - \\pi_1) [f(S_0, \\mu_2) + g(a - a_\\kappa, \\mu_2)]\n",
    "\\end{align*}\n",
    "\n",
    "We now consider the following scenario, where we reduce the school entry age by one year but keep the minimum school leaving age unchanged. Type 1 achieve their optimal level of schooling exactly at the school leaving age. Type 2's will be forced to attend school a year longer.\n",
    "%\n",
    "\\begin{align*}\n",
    "E[\\ln y_a] = \\pi_1 [f(S_0 + 1, \\mu_1) + g(a - a_\\kappa, \\mu_1)]\n",
    "+ (1 - \\pi_1) [f(S_0 + 1, \\mu_2) + g(a - a_\\kappa, \\mu_2)]\n",
    "\\end{align*}\n",
    "\n",
    "The difference in expected (ln) earnings divided by the difference in expected schooling $0 \\cdot \\pi_1 + 1 \\cdot (1 - \\pi_1)$, the Wald estimator, is thus\n",
    "\n",
    "\\begin{align*}\\begin{array}{ll}\n",
    "E[\\ln y_a | \\underbrace{Z = 1}_{\\text{reduced entry age}}] - E[\\ln y_a | Z = 0] \\\\\n",
    "= \\pi_1 (f(S_0 + 1, \\mu_1) + g(a - a_\\kappa, \\mu_1)) \\\\\n",
    "\\hspace{11pt}+ (1 - \\pi     _1) (f(S_0 + 1, \\mu_2) + g(a - o_\\kappa, \\mu_2)) \\\\\n",
    "\\hspace{11pt}- \\pi_1 (f(S_0 + 1, \\mu_1) + g(a - a_\\kappa - 1, \\mu_1)) \\\\\n",
    "\\hspace{11pt}- (1 - \\pi_1) (f(S_0, \\mu_2) + g(a - o_\\kappa, \\mu_2)) \\\\[20pt]\n",
    "= \\pi_1 (g(a - a_\\kappa, \\mu_1) - g(a - a_\\kappa - 1, \\mu_1)) \\\\\n",
    "\\hspace{11pt}+ (1 - \\pi_1) (f(S_0 + 1, \\mu_2) - f(S_0, \\mu_2))\n",
    "\\end{array}\\end{align*}\n",
    "\n",
    "divide by difference in schooling attainment\n",
    "\n",
    "\\begin{align*}\n",
    "\\pi_1 * 0 + (1 - \\pi_1) * 1\n",
    "\\end{align*}\n",
    "\n",
    "\\begin{align*}\n",
    "\\frac{\\Delta E (\\ln y_a)}{\\Delta S} = \\underbrace{\\frac{\\pi_1}{1 -\\pi_1} [g(a - a_\\kappa, \\mu_1) - g(a - a_\\kappa - 1, \\mu_1)]}_{\\text{type 1's additional experience}} + \\underbrace{[f(S_0 + 1, \\mu_2) - f(S_0, \\mu_2)]}_{\\text{effect of interest (compliers only)}},\n",
    "\\end{align*}\n",
    "\n",
    "where $\\frac{\\Delta E (\\ln y_a)}{\\Delta S}$ corresponds to $E(\\ln y_a \\mid Z = 1) - E(\\ln y_a \\mid Z = 0)$ and $Z$ takes value one under the reduced school entry age and zero otherwise. Thus the estimate does not correspond directly to the effect of interest. However, Angrist & Krueger (1991) make the point in Figure V that for the cohort they are looking at $(a = 40, ..., 49)$ the effect of age on earnings is negligible.\n"
   ]
  },
  {
   "cell_type": "markdown",
   "metadata": {},
   "source": [
    "### Resources"
   ]
  },
  {
   "cell_type": "markdown",
   "metadata": {},
   "source": [
    "* **Angrist, J. D. (1990)**. [Lifetime earnings and the vietnam era draft lottery: Evidence from social security records](https://www.jstor.org/stable/2006669?seq=1). *American Economic Review*, 80(3), 313–336.\n",
    "\n",
    "\n",
    "* **Angrist, J. D., & Krueger, A. B. (1991)**. [Does compulsory school attendance affect schooling and earnings?](https://academic.oup.com/qje/article-abstract/106/4/979/1873496?redirectedFrom=fulltext). *The Quarterly Journal of Economics*, 106(4), 979-1014. \n",
    "\n",
    "\n",
    "* **Angrist, J. D., Imbens, G. W., & Rubin, D.B. (1996)**. [Identification of causal effects using instrumental variables ](https://www.jstor.org/stable/2291629?refreqid=excelsior%3A77b1779497b7c2f47f2a1d9cc96265be). *Journal of the American Statistical Association*, 91(434), 444-455.\n",
    "\n",
    "\n",
    "* **Angrist, J. D., & Imbens, G. W. (1999)**. [Comment on James Heckman, \\\"Instrumental Variables: A Study of Implicit Behavioral Assumption Used in Making Program Evaluations](https://scholar.harvard.edu/imbens/publications/comment-james-heckman-instrumental-variables-study-implicit-behavioral-assumptio). *Journal of Human Resources*, 34, 823– 827.\n",
    "\n",
    "\n",
    "* **Deaton, A. S. (2009)**. [Instruments of development: randomization in the tropics, and the search for the elusive keys to economic development](https://www.nber.org/papers/w14690). *National Bureau of Economic Research*, Working Paper 14690.\n",
    "\n",
    "\n",
    "* **Heckman, J. J. (1997)**. [Instrumental variables: A study of implicit behavioral assumptions used in making program evaluations](https://www.jstor.org/stable/146178?seq=1). *The Journal of Human Resources*, 32(3), 441–462.\n",
    "\n",
    "\n",
    "\n",
    "* **Heckman, J. J. (1999)**. [Instrumental Variables: Response to Angrist and Imbens](https://www.jstor.org/stable/146419#metadata_info_tab_contents). *The Journal of Human Resources*, 34(4), 828-837.\n",
    "\n",
    "\n",
    "* **Heckman, J. J., & Urzúa, S. (2010)**. [Comparing IV with structural models: What simple IV can and cannot identify](https://www.sciencedirect.com/science/article/abs/pii/S0304407609001973), *Journal of Econometrics*, 156(1), 27-37.\n",
    "\n",
    "\n",
    "* **Imbens, G. W. (2010)**. [Better LATE Than Nothing: Some Comments on Deaton (2009) and Heckman and Urzua (2009)](https://www.aeaweb.org/articles?id=10.1257/jel.48.2.399). *Journal of Economic Literature*, 48(2), 399-423.\n",
    "\n",
    "\n",
    "* **Imbens, G. W. (2014)**. [Instrumental variables: An econometrician’s perspective](https://projecteuclid.org/journals/statistical-science/volume-29/issue-3/Instrumental-Variables-An-Econometricians-Perspective/10.1214/14-STS480.full). *Statistical Science*, 29(3), 323-358. \n",
    "\n",
    "\n",
    "* **Rosenzweig, M. R., & Wolpin, K. I. (2000)**. [Natural ”natural” experiments in economics](https://www.aeaweb.org/articles?id=10.1257/jel.38.4.827). *Journal of Economic Literature*, 38(4), 827–874.\n"
   ]
  }
 ],
 "metadata": {
  "kernelspec": {
   "display_name": "Python 3",
   "language": "python",
   "name": "python3"
  },
  "language_info": {
   "codemirror_mode": {
    "name": "ipython",
    "version": 3
   },
   "file_extension": ".py",
   "mimetype": "text/x-python",
   "name": "python",
   "nbconvert_exporter": "python",
   "pygments_lexer": "ipython3",
   "version": "3.8.8"
  },
  "pycharm": {
   "stem_cell": {
    "cell_type": "raw",
    "metadata": {
     "collapsed": false
    },
    "source": []
   }
  }
 },
 "nbformat": 4,
 "nbformat_minor": 4
}
