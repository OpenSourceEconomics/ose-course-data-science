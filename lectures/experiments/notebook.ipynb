{
 "cells": [
  {
   "cell_type": "markdown",
   "id": "3b9d7376",
   "metadata": {},
   "source": [
    "# Randomized Experiments\n",
    "-------------------"
   ]
  },
  {
   "cell_type": "markdown",
   "id": "db4554c6",
   "metadata": {},
   "source": [
    "# References \n",
    "\n",
    "* **Athey, S., & Imbens, G. (2017)**. [Chapter 3 - The econometrics of randomized experiments](https://www.sciencedirect.com/science/article/abs/pii/S2214658X16300174), in *Handbook of Economic Field Experiments*, 73-140.\n",
    "\n",
    "\n",
    "* **Freedman, D.A. (2008)**. [On regression adjustments to experimental data](https://www.sciencedirect.com/science/article/pii/S019688580700005X), *Advances in Applied Mathematics*, 40(2), 180-193."
   ]
  }
 ],
 "metadata": {
  "kernelspec": {
   "display_name": "Python 3",
   "language": "python",
   "name": "python3"
  },
  "language_info": {
   "codemirror_mode": {
    "name": "ipython",
    "version": 3
   },
   "file_extension": ".py",
   "mimetype": "text/x-python",
   "name": "python",
   "nbconvert_exporter": "python",
   "pygments_lexer": "ipython3",
   "version": "3.8.8"
  }
 },
 "nbformat": 4,
 "nbformat_minor": 5
}
