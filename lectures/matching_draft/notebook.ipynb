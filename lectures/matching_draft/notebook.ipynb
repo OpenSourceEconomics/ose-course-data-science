{
 "cells": [
  {
   "cell_type": "markdown",
   "id": "37cd8860",
   "metadata": {},
   "source": [
    "# Matching and Subclassification\n",
    "----------------\n",
    "\n",
    "Readings:\n",
    "\n",
    "* **Cunningham, S. (2021)**. Causal Inference: The Mixtape. *Yale University Press, United States*.\n",
    "\n",
    "* **Huntington-Klein, N. (2021)**. The Effect: An Introduction to Research Design and Causality. *Taylor & Francis Ltd, United Kingdom*.\n",
    "-------------\n"
   ]
  },
  {
   "cell_type": "code",
   "execution_count": 16,
   "id": "abfcc8bf",
   "metadata": {},
   "outputs": [],
   "source": [
    "import numpy as np \n",
    "import pandas as pd \n",
    "import statsmodels.api as sm \n",
    "import statsmodels.formula.api as smf \n",
    "import plotnine as p"
   ]
  },
  {
   "cell_type": "markdown",
   "id": "78dfe327",
   "metadata": {},
   "source": [
    "## Roadmap\n",
    "\n",
    "* 1. Introduction\n",
    "* 2. Subclassification\n",
    " * 2.1. Background\n",
    " * 2.2. Identifying Assumptions\n",
    " * 2.3. Example\n",
    " * 2.4. Course of dimensionality\n",
    "* 3. Exact Matching\n",
    "* 4. Approximate Matching\n",
    " * 4.1. Nearest neighbor covariate matching\n",
    " * 4.2. Bias Correction\n",
    "* 5. Propensity score methods\n",
    " * 5.1. Example\n",
    " * 5.2.Weighting on the propensity score\n",
    " * 5.3. Nearest-neighbor matching\n",
    " * 5.4. Coarsened exact matching\n",
    "* 6. Conclusion\n",
    "    "
   ]
  },
  {
   "cell_type": "markdown",
   "id": "22d83d9f",
   "metadata": {},
   "source": [
    "## 1. Introduction\n",
    "\n",
    "Matching is the process of closing back door paths between the treatment and outcome variable by constructing comparison groups that are similar in a one or more matching variables. In other words and assuming $W$ is the variable causing a back door path, then choosing a sample in which there is no variation in $W$ automatically closes any open back doors created by $W$.\n",
    "\n",
    "Consider the following basic example: we are interested in estimating the effect of a job-training program on the probability of getting a job. The pool of people eligible for the program is about 50% male and 50% female, but the program was advertised strongly towards men, so the people who *actually* took part of the program were 80% men, 20% female. There is, therefore, a back door path created by the variable *gender*, so \n",
    "$Getting \\: a \\: Job\t\\leftarrow Gender \\rightarrow Job \\: Training \\: Program$. \n",
    "\n",
    "The basic idea of the matching approach then is to construct a comparable control group that was also 80% men and 20% female. Comparing these treated and untreated groups, we eliminate the gender difference so $Gender \\rightarrow JobTrainingProgram$ disappears and we can then identify $Job \\: Training \\: Program \\rightarrow Getting \\: a \\:Job$ (assuming there are no other open back door paths). \n",
    "\n",
    "In what follows, we will discuss three different types of conditional strategies: subclassification, exact matching and appropiate matching. "
   ]
  },
  {
   "cell_type": "markdown",
   "id": "94f95148",
   "metadata": {},
   "source": [
    "## 2. Subclassification\n",
    "\n",
    "Subclassification is a method for closing back door paths by weighting difference in means by strata-specific weights. These strata-specific weights will, in turn, adjust the differences in means so that their distribution by strata is the same as that of the counterfactual’s strata. This method then achieves distributional *balance* between the treatment and control groups in terms of the observable confounder $W$. \n",
    "\n",
    "One of the key concepts for this chapter is the Conditional Independence Assumption (CIA):\n",
    "\n",
    "$\n",
    "(Y^1, Y^0) \\perp D, X\n",
    "$\n",
    "\n",
    "which means that the expected values of $Y^1, Y^0$ are equal for both the treatment and control group for each value of $X$.\n",
    "\n",
    "\\begin{equation}\n",
    "E[Y^1| D=1, X]= E[Y^1| D=0, X]\n",
    "\\end{equation}\n",
    "\\begin{equation}\n",
    "E[Y^0| D=1, X]= E[Y^0| D=0, X]\n",
    "\\end{equation}\n",
    "\n",
    "CIA means you have found a conditioning strategy that satisfies the backdoor criterion and $X$ can be a $nxk$ matrix of conditioning variables that satisfies the CIA assumption.\n",
    "\n",
    "### 2.1. Background\n",
    "\n",
    "From 1860 to 1950, the rate of lung cancer incidence appeared to be increasing and studies sugested that smoking was the **cause**. For example, studies found that the relationship between daily smoking and lung cancer in males was monotonically increasing in the number of cigarettes a male smoked per day. But maybe people who smoked were different from non-smokers in features that were related to the incidence of having or not lung cancer. If the independence assumption does not hold, then computing the difference in means from smokers and non-smokers will be biased.\n",
    "\n",
    "For the following example, we follow Cochran (1968), a study trying to adress patterns in smoking data by adjusting for possible cofounders. The following table shows mortality rates by country and the type of smoking of individuals:\n",
    "\n",
    "\n",
    "![title](Material/table1.png)\n",
    "\n",
    "The table suggests that pipes and cigars are more dangerous than cigarette smoking (which does not make much sense). Recall the independence assumption and think whether it should hold:\n",
    "\n",
    "$ E[Y^1|Cigarette]=E[Y^1|Pipe]=E[Y^1|Cigar]$\n",
    "\n",
    "$ E[Y^0|Cigarette]=E[Y^0|Pipe]=E[Y^0|Cigar]$\n",
    "\n",
    "If this holds, then it means that there is *balance* in covariates, which means that the covariates are the same for each group. Lets look into the mean ages of the different groups:\n",
    "\n",
    "![title](Material/table2.png)\n",
    "\n",
    "Here we see that cigar and pipe smokers are considerably older than cigar smokers for this particular dataset, which could be a reason why the death rates are higher among cigar and pipe smokers (since older people die at a higher rate for other reasons than smoking cigars). This could also be the reason why cigar smokers present a lower death rate, since they are on average younger.\n",
    "\n",
    "Thus, we have a backdoor path that its open, and the CIA assumption is then violated. Also, the distribution of age for each group is different, leading to a covariate *imbalance*. A way to control for this is using subclassification. An example: 1) divide age into the following strata: 20-40; 41-70; 71 and older; 2) calculate the mortality rate for a treatment group (cigarette smokers) by strata; 3) weight the mortality rate for the treatment group by a strata-spefific weight that corresponds to the control group. With this procedure we achieve age-adjusted mortality rate for the treatment group.\n",
    "\n",
    "![title](Material/table3.png)\n",
    "\n",
    "Lets compute first the average death rate for pipe smokers without subclassification, where the weight is given by $\\frac{N_t}{N}$:\n",
    "\n",
    "$ 20 * \\frac{75}{100} + 40 * \\frac{25}{100} + 60 * \\frac{10}{100}= 29$ \n",
    "\n",
    "With subclassification, we want to multiply each age-specific mortality rate by the proportion of individuals in that age strata for the comparision group:\n",
    "\n",
    "$ 20 * \\frac{10}{100} + 40 * \\frac{25}{100} + 60 * \\frac{65}{100}= 51$ \n",
    "\n",
    "Recalculating the mortality rates by adjusting for the age distribution, Cochran gets:\n",
    "\n",
    "![title](Material/table4.png)\n",
    "\n",
    "### 2.2. Identifying Assumptions\n",
    "\n",
    "1. $(Y^1, Y^0) \\perp D| X$ (conditional independence)\n",
    "\n",
    "2. $ 0 < Pr(D=1|X) <1 $ (common support)\n",
    "\n",
    "The two assumptions yield:\n",
    "\n",
    "\\begin{align*}\n",
    "E[Y^1-Y^0| X] & = E[Y^1 - Y^0| X, D=1] \\\\\n",
    "&=  E[Y^1| X, D=1] - E[Y^0| X, D=0] \\\\\n",
    "&=  E[Y| X, D=1] - E[Y| X, D=0]\n",
    "\\end{align*}\n",
    "\n",
    "\n",
    "And giving the common support assumption, we get:\n",
    "\n",
    "$\\hat{\\delta_{ATE}}= \\int (E[Y|X, D=1] - E[Y|X, D=0])d Pr(X)$\n",
    "\n",
    "### 2.3. Exercise\n",
    "\n",
    "We want to explore the question on whether or not being seated first class made someone more likely to survive. Being in first class is likely to explain the probability of survival; however, we encounter two backdoor paths: being a woman and being a child.\n",
    "\n",
    "Here we will calculate a naïve simple difference in outcomes for the sample:\n",
    "\n",
    "$E[Y|D=1]-E[Y|D=0]$"
   ]
  },
  {
   "cell_type": "code",
   "execution_count": 17,
   "id": "faef289a",
   "metadata": {},
   "outputs": [
    {
     "data": {
      "text/html": [
       "<div>\n",
       "<style scoped>\n",
       "    .dataframe tbody tr th:only-of-type {\n",
       "        vertical-align: middle;\n",
       "    }\n",
       "\n",
       "    .dataframe tbody tr th {\n",
       "        vertical-align: top;\n",
       "    }\n",
       "\n",
       "    .dataframe thead th {\n",
       "        text-align: right;\n",
       "    }\n",
       "</style>\n",
       "<table border=\"1\" class=\"dataframe\">\n",
       "  <thead>\n",
       "    <tr style=\"text-align: right;\">\n",
       "      <th></th>\n",
       "      <th>class</th>\n",
       "      <th>age</th>\n",
       "      <th>sex</th>\n",
       "      <th>survived</th>\n",
       "    </tr>\n",
       "  </thead>\n",
       "  <tbody>\n",
       "    <tr>\n",
       "      <th>0</th>\n",
       "      <td>1st class</td>\n",
       "      <td>adults</td>\n",
       "      <td>man</td>\n",
       "      <td>yes</td>\n",
       "    </tr>\n",
       "    <tr>\n",
       "      <th>1</th>\n",
       "      <td>1st class</td>\n",
       "      <td>adults</td>\n",
       "      <td>man</td>\n",
       "      <td>yes</td>\n",
       "    </tr>\n",
       "    <tr>\n",
       "      <th>2</th>\n",
       "      <td>1st class</td>\n",
       "      <td>adults</td>\n",
       "      <td>man</td>\n",
       "      <td>yes</td>\n",
       "    </tr>\n",
       "    <tr>\n",
       "      <th>3</th>\n",
       "      <td>1st class</td>\n",
       "      <td>adults</td>\n",
       "      <td>man</td>\n",
       "      <td>yes</td>\n",
       "    </tr>\n",
       "    <tr>\n",
       "      <th>4</th>\n",
       "      <td>1st class</td>\n",
       "      <td>adults</td>\n",
       "      <td>man</td>\n",
       "      <td>yes</td>\n",
       "    </tr>\n",
       "  </tbody>\n",
       "</table>\n",
       "</div>"
      ],
      "text/plain": [
       "       class     age  sex survived\n",
       "0  1st class  adults  man      yes\n",
       "1  1st class  adults  man      yes\n",
       "2  1st class  adults  man      yes\n",
       "3  1st class  adults  man      yes\n",
       "4  1st class  adults  man      yes"
      ]
     },
     "execution_count": 17,
     "metadata": {},
     "output_type": "execute_result"
    }
   ],
   "source": [
    "titanic = pd.read_stata(\"Data/titanic.dta\")\n",
    "titanic.head()"
   ]
  },
  {
   "cell_type": "markdown",
   "id": "d260a449",
   "metadata": {},
   "source": [
    "We create a variable for treated group based on the survival status:"
   ]
  },
  {
   "cell_type": "code",
   "execution_count": 18,
   "id": "bed18b2c",
   "metadata": {},
   "outputs": [
    {
     "data": {
      "text/html": [
       "<div>\n",
       "<style scoped>\n",
       "    .dataframe tbody tr th:only-of-type {\n",
       "        vertical-align: middle;\n",
       "    }\n",
       "\n",
       "    .dataframe tbody tr th {\n",
       "        vertical-align: top;\n",
       "    }\n",
       "\n",
       "    .dataframe thead th {\n",
       "        text-align: right;\n",
       "    }\n",
       "</style>\n",
       "<table border=\"1\" class=\"dataframe\">\n",
       "  <thead>\n",
       "    <tr style=\"text-align: right;\">\n",
       "      <th></th>\n",
       "      <th>class</th>\n",
       "      <th>age</th>\n",
       "      <th>sex</th>\n",
       "      <th>survived</th>\n",
       "      <th>d</th>\n",
       "    </tr>\n",
       "  </thead>\n",
       "  <tbody>\n",
       "    <tr>\n",
       "      <th>0</th>\n",
       "      <td>1st class</td>\n",
       "      <td>adults</td>\n",
       "      <td>man</td>\n",
       "      <td>yes</td>\n",
       "      <td>1</td>\n",
       "    </tr>\n",
       "    <tr>\n",
       "      <th>1</th>\n",
       "      <td>1st class</td>\n",
       "      <td>adults</td>\n",
       "      <td>man</td>\n",
       "      <td>yes</td>\n",
       "      <td>1</td>\n",
       "    </tr>\n",
       "    <tr>\n",
       "      <th>2</th>\n",
       "      <td>1st class</td>\n",
       "      <td>adults</td>\n",
       "      <td>man</td>\n",
       "      <td>yes</td>\n",
       "      <td>1</td>\n",
       "    </tr>\n",
       "    <tr>\n",
       "      <th>3</th>\n",
       "      <td>1st class</td>\n",
       "      <td>adults</td>\n",
       "      <td>man</td>\n",
       "      <td>yes</td>\n",
       "      <td>1</td>\n",
       "    </tr>\n",
       "    <tr>\n",
       "      <th>4</th>\n",
       "      <td>1st class</td>\n",
       "      <td>adults</td>\n",
       "      <td>man</td>\n",
       "      <td>yes</td>\n",
       "      <td>1</td>\n",
       "    </tr>\n",
       "  </tbody>\n",
       "</table>\n",
       "</div>"
      ],
      "text/plain": [
       "       class     age  sex survived  d\n",
       "0  1st class  adults  man      yes  1\n",
       "1  1st class  adults  man      yes  1\n",
       "2  1st class  adults  man      yes  1\n",
       "3  1st class  adults  man      yes  1\n",
       "4  1st class  adults  man      yes  1"
      ]
     },
     "execution_count": 18,
     "metadata": {},
     "output_type": "execute_result"
    }
   ],
   "source": [
    "titanic['d'] = 0\n",
    "titanic.loc[titanic['class'] == '1st class', 'd'] = 1\n",
    "titanic.head()"
   ]
  },
  {
   "cell_type": "code",
   "execution_count": 19,
   "id": "d03d165f",
   "metadata": {},
   "outputs": [
    {
     "data": {
      "text/html": [
       "<div>\n",
       "<style scoped>\n",
       "    .dataframe tbody tr th:only-of-type {\n",
       "        vertical-align: middle;\n",
       "    }\n",
       "\n",
       "    .dataframe tbody tr th {\n",
       "        vertical-align: top;\n",
       "    }\n",
       "\n",
       "    .dataframe thead th {\n",
       "        text-align: right;\n",
       "    }\n",
       "</style>\n",
       "<table border=\"1\" class=\"dataframe\">\n",
       "  <thead>\n",
       "    <tr style=\"text-align: right;\">\n",
       "      <th></th>\n",
       "      <th>class</th>\n",
       "      <th>age</th>\n",
       "      <th>sex</th>\n",
       "      <th>survived</th>\n",
       "      <th>d</th>\n",
       "      <th>sex_d</th>\n",
       "      <th>age_d</th>\n",
       "      <th>survived_d</th>\n",
       "    </tr>\n",
       "  </thead>\n",
       "  <tbody>\n",
       "    <tr>\n",
       "      <th>0</th>\n",
       "      <td>1st class</td>\n",
       "      <td>adults</td>\n",
       "      <td>man</td>\n",
       "      <td>yes</td>\n",
       "      <td>1</td>\n",
       "      <td>1</td>\n",
       "      <td>1</td>\n",
       "      <td>1</td>\n",
       "    </tr>\n",
       "    <tr>\n",
       "      <th>1</th>\n",
       "      <td>1st class</td>\n",
       "      <td>adults</td>\n",
       "      <td>man</td>\n",
       "      <td>yes</td>\n",
       "      <td>1</td>\n",
       "      <td>1</td>\n",
       "      <td>1</td>\n",
       "      <td>1</td>\n",
       "    </tr>\n",
       "    <tr>\n",
       "      <th>2</th>\n",
       "      <td>1st class</td>\n",
       "      <td>adults</td>\n",
       "      <td>man</td>\n",
       "      <td>yes</td>\n",
       "      <td>1</td>\n",
       "      <td>1</td>\n",
       "      <td>1</td>\n",
       "      <td>1</td>\n",
       "    </tr>\n",
       "    <tr>\n",
       "      <th>3</th>\n",
       "      <td>1st class</td>\n",
       "      <td>adults</td>\n",
       "      <td>man</td>\n",
       "      <td>yes</td>\n",
       "      <td>1</td>\n",
       "      <td>1</td>\n",
       "      <td>1</td>\n",
       "      <td>1</td>\n",
       "    </tr>\n",
       "    <tr>\n",
       "      <th>4</th>\n",
       "      <td>1st class</td>\n",
       "      <td>adults</td>\n",
       "      <td>man</td>\n",
       "      <td>yes</td>\n",
       "      <td>1</td>\n",
       "      <td>1</td>\n",
       "      <td>1</td>\n",
       "      <td>1</td>\n",
       "    </tr>\n",
       "  </tbody>\n",
       "</table>\n",
       "</div>"
      ],
      "text/plain": [
       "       class     age  sex survived  d  sex_d  age_d  survived_d\n",
       "0  1st class  adults  man      yes  1      1      1           1\n",
       "1  1st class  adults  man      yes  1      1      1           1\n",
       "2  1st class  adults  man      yes  1      1      1           1\n",
       "3  1st class  adults  man      yes  1      1      1           1\n",
       "4  1st class  adults  man      yes  1      1      1           1"
      ]
     },
     "execution_count": 19,
     "metadata": {},
     "output_type": "execute_result"
    }
   ],
   "source": [
    "titanic['d'] = np.where((titanic['class'] == '1st class'), 1, 0)\n",
    "titanic['sex_d'] = np.where((titanic['sex'] == 'man'), 1, 0)\n",
    "titanic['age_d'] = np.where((titanic['age'] == 'adults'), 1, 0)\n",
    "titanic['survived_d'] = np.where((titanic['survived'] == 'yes'), 1, 0)\n",
    "titanic.head()"
   ]
  },
  {
   "cell_type": "code",
   "execution_count": 20,
   "id": "cefa1b85",
   "metadata": {},
   "outputs": [
    {
     "data": {
      "text/plain": [
       "d\n",
       "0    0.270789\n",
       "1    0.624615\n",
       "Name: survived_d, dtype: float64"
      ]
     },
     "execution_count": 20,
     "metadata": {},
     "output_type": "execute_result"
    }
   ],
   "source": [
    "titanic.groupby('d')['survived_d'].mean()"
   ]
  },
  {
   "cell_type": "code",
   "execution_count": 21,
   "id": "4bee11b0",
   "metadata": {},
   "outputs": [
    {
     "data": {
      "text/plain": [
       "0.27078891257995735"
      ]
     },
     "execution_count": 21,
     "metadata": {},
     "output_type": "execute_result"
    }
   ],
   "source": [
    "ey0 = titanic.loc[titanic['d'] == 0, 'survived_d'].mean()\n",
    "ey0"
   ]
  },
  {
   "cell_type": "code",
   "execution_count": 22,
   "id": "084c8838",
   "metadata": {},
   "outputs": [
    {
     "name": "stdout",
     "output_type": "stream",
     "text": [
      "The naive difference in outcomes is 35.38%\n"
     ]
    }
   ],
   "source": [
    "ey0 = titanic.loc[titanic['d'] == 0, 'survived_d'].mean()\n",
    "ey1 = titanic.loc[titanic['d'] == 1, 'survived_d'].mean()\n",
    "\n",
    "diff = ey1 - ey0\n",
    "print(\"The naive difference in outcomes is {:.2%}\".format(diff))"
   ]
  },
  {
   "cell_type": "markdown",
   "id": "a6245478",
   "metadata": {},
   "source": [
    "Note that the later is a biased estimate of the ATE, so next we use subclassification weighting to control for cofounders.\n",
    "\n",
    "*Steps*:\n",
    "\n",
    "1. Stratify the data into four groups: young males, young females, old males, old females.\n",
    "2. Calculate the difference in survival probabilities for each group.\n",
    "3. Calculate the number of people in the non-first-class groups and divide by the total number of non-first-class population. These are our strata-specific weights.\n",
    "4. Calculate the weighted average survival rate using the strata weights."
   ]
  },
  {
   "cell_type": "code",
   "execution_count": 23,
   "id": "84feaf2b",
   "metadata": {},
   "outputs": [],
   "source": [
    "titanic['s'] = 0 \n",
    "titanic.loc[(titanic.sex_d == 0) & (titanic.age_d == 1), 's'] = 1 \n",
    "titanic.loc[(titanic.sex_d == 0) & (titanic.age_d == 0), 's'] = 2 \n",
    "titanic.loc[(titanic.sex_d == 1) & (titanic.age_d == 1), 's'] = 3\n",
    "titanic.loc[(titanic.sex_d == 1) & (titanic.age_d == 0), 's'] = 4"
   ]
  },
  {
   "cell_type": "code",
   "execution_count": 24,
   "id": "fb989046",
   "metadata": {},
   "outputs": [],
   "source": [
    "obs = len(titanic.loc[titanic.d == 0])"
   ]
  },
  {
   "cell_type": "code",
   "execution_count": 25,
   "id": "59db4391",
   "metadata": {},
   "outputs": [],
   "source": [
    "def weighted_avg_effect(df):\n",
    "    diff = df[df.d == 1].survived_d.mean() - df[df.d == 0].survived_d.mean()\n",
    "    weight = len(df[df.d == 0]) / obs\n",
    "    return diff * weight"
   ]
  },
  {
   "cell_type": "code",
   "execution_count": 26,
   "id": "e8220f75",
   "metadata": {},
   "outputs": [
    {
     "name": "stdout",
     "output_type": "stream",
     "text": [
      "The weigthted average treatment effect estimate is 18.88%\n"
     ]
    }
   ],
   "source": [
    "wate = titanic.groupby('s').apply(weighted_avg_effect).sum()\n",
    "print(\"The weigthted average treatment effect estimate is {:.2%}\".format(wate))"
   ]
  },
  {
   "cell_type": "markdown",
   "id": "3db8fd3f",
   "metadata": {},
   "source": [
    "### 2.4. Course of dimensionality\n",
    "\n",
    "What if the cofounder has multiple values? For example, what if instead of stratifying the data in adult or child (binary), we stratify for all age-values possible?\n",
    "\n",
    "![title](Material/table5.png)\n",
    "\n",
    "Here the common support assumption is being violated, since there are not any 12-year-old male passengers in first class, nor are there any 14-year-old male passengers in first class. Thus, we cannot estimate the ATE, since our stratifying variable has too many dimensions.\n",
    "\n",
    "However, you could calculate the ATT if there is always someone in the control group for a given combination of gender and age, like 11-years-old and 13-years-old in the example above.\n",
    "\n",
    "$\\hat{\\delta}_{ATT}= \\sum_{k=1}^{K}(\\bar{Y}^{1,k} - \\bar{Y}^{0,k})  (\\frac{N^{k}_{T}}{N_{T}})$"
   ]
  },
  {
   "cell_type": "markdown",
   "id": "bb722965",
   "metadata": {},
   "source": [
    "## 3. Exact Matching\n",
    "\n",
    "What if we filled in the missing potential outcome for each treatment unit using a control group unit that was “closest” to the treatment group unit for some $X$ confounder? This approach is called matching and there exist exact and approximate matching.\n",
    "\n",
    "A simple matching estimator is the following:\n",
    "\n",
    "$\\hat{\\delta}_{ATT}= \\frac{1}{{N_T}} \\sum_{D_i=1} (Y_i- Y_{j(i)})$\n",
    "\n",
    "where $Y_{j(i)}$ is the jth unit matched to the ith unit based on the idea that the jth unit is the closest to the ith unit given certain covariate. In the case where many units matches ith, we would assign the average outcome $\\frac{1}{M}$ as the conterfactual.\n",
    "\n",
    "$\\hat{\\delta}_{ATT}= \\frac{1}{{N_T}} \\sum_{D_i=1} (Y_i- [\\frac{1}{M} \\sum_{m=1}^{M}Y_{jm(1)}])$\n",
    "\n",
    "We can estimate the ATE by filling both missing control group units.\n",
    "\n",
    "$\\hat{\\delta}_{ATE}= \\frac{1}{{N}} \\sum_{i=1}^{N} (2D_i -1) (Y_i- [\\frac{1}{M} \\sum_{m=1}^{M}Y_{jm(1)}])$"
   ]
  },
  {
   "cell_type": "code",
   "execution_count": 27,
   "id": "afa0093b",
   "metadata": {},
   "outputs": [
    {
     "data": {
      "text/html": [
       "<div>\n",
       "<style scoped>\n",
       "    .dataframe tbody tr th:only-of-type {\n",
       "        vertical-align: middle;\n",
       "    }\n",
       "\n",
       "    .dataframe tbody tr th {\n",
       "        vertical-align: top;\n",
       "    }\n",
       "\n",
       "    .dataframe thead th {\n",
       "        text-align: right;\n",
       "    }\n",
       "</style>\n",
       "<table border=\"1\" class=\"dataframe\">\n",
       "  <thead>\n",
       "    <tr style=\"text-align: right;\">\n",
       "      <th></th>\n",
       "      <th>unit_treat</th>\n",
       "      <th>age_treat</th>\n",
       "      <th>earnings_treat</th>\n",
       "      <th>unit_control</th>\n",
       "      <th>age_control</th>\n",
       "      <th>earnings_control</th>\n",
       "      <th>unit_matched</th>\n",
       "      <th>age_matched</th>\n",
       "      <th>earnings_matched</th>\n",
       "    </tr>\n",
       "  </thead>\n",
       "  <tbody>\n",
       "    <tr>\n",
       "      <th>0</th>\n",
       "      <td>1.0</td>\n",
       "      <td>18.0</td>\n",
       "      <td>9500</td>\n",
       "      <td>1.0</td>\n",
       "      <td>20.0</td>\n",
       "      <td>8500.0</td>\n",
       "      <td>1.0</td>\n",
       "      <td>18.0</td>\n",
       "      <td>8050.0</td>\n",
       "    </tr>\n",
       "    <tr>\n",
       "      <th>1</th>\n",
       "      <td>2.0</td>\n",
       "      <td>29.0</td>\n",
       "      <td>12250</td>\n",
       "      <td>2.0</td>\n",
       "      <td>27.0</td>\n",
       "      <td>10075.0</td>\n",
       "      <td>2.0</td>\n",
       "      <td>29.0</td>\n",
       "      <td>10525.0</td>\n",
       "    </tr>\n",
       "    <tr>\n",
       "      <th>2</th>\n",
       "      <td>3.0</td>\n",
       "      <td>24.0</td>\n",
       "      <td>11000</td>\n",
       "      <td>3.0</td>\n",
       "      <td>21.0</td>\n",
       "      <td>8725.0</td>\n",
       "      <td>3.0</td>\n",
       "      <td>24.0</td>\n",
       "      <td>9400.0</td>\n",
       "    </tr>\n",
       "    <tr>\n",
       "      <th>3</th>\n",
       "      <td>4.0</td>\n",
       "      <td>27.0</td>\n",
       "      <td>11750</td>\n",
       "      <td>4.0</td>\n",
       "      <td>39.0</td>\n",
       "      <td>12775.0</td>\n",
       "      <td>4.0</td>\n",
       "      <td>27.0</td>\n",
       "      <td>10075.0</td>\n",
       "    </tr>\n",
       "    <tr>\n",
       "      <th>4</th>\n",
       "      <td>5.0</td>\n",
       "      <td>33.0</td>\n",
       "      <td>13250</td>\n",
       "      <td>5.0</td>\n",
       "      <td>38.0</td>\n",
       "      <td>12550.0</td>\n",
       "      <td>5.0</td>\n",
       "      <td>33.0</td>\n",
       "      <td>11425.0</td>\n",
       "    </tr>\n",
       "  </tbody>\n",
       "</table>\n",
       "</div>"
      ],
      "text/plain": [
       "   unit_treat  age_treat earnings_treat  unit_control  age_control  \\\n",
       "0         1.0       18.0           9500           1.0         20.0   \n",
       "1         2.0       29.0          12250           2.0         27.0   \n",
       "2         3.0       24.0          11000           3.0         21.0   \n",
       "3         4.0       27.0          11750           4.0         39.0   \n",
       "4         5.0       33.0          13250           5.0         38.0   \n",
       "\n",
       "   earnings_control  unit_matched  age_matched  earnings_matched  \n",
       "0            8500.0           1.0         18.0            8050.0  \n",
       "1           10075.0           2.0         29.0           10525.0  \n",
       "2            8725.0           3.0         24.0            9400.0  \n",
       "3           12775.0           4.0         27.0           10075.0  \n",
       "4           12550.0           5.0         33.0           11425.0  "
      ]
     },
     "execution_count": 27,
     "metadata": {},
     "output_type": "execute_result"
    }
   ],
   "source": [
    "training_data = pd.read_stata(\"Data/training_example.dta\")\n",
    "training_data.head()"
   ]
  },
  {
   "cell_type": "code",
   "execution_count": 28,
   "id": "5b398361",
   "metadata": {},
   "outputs": [
    {
     "name": "stderr",
     "output_type": "stream",
     "text": [
      "C:\\Users\\caroa\\anaconda3\\lib\\site-packages\\plotnine\\layer.py:324: PlotnineWarning: stat_bin : Removed 14 rows containing non-finite values.\n"
     ]
    },
    {
     "data": {
      "image/png": "[encoded data removed]",
      "text/plain": [
       "<Figure size 640x480 with 1 Axes>"
      ]
     },
     "metadata": {},
     "output_type": "display_data"
    },
    {
     "data": {
      "text/plain": [
       "<ggplot: (151503353360)>"
      ]
     },
     "execution_count": 28,
     "metadata": {},
     "output_type": "execute_result"
    }
   ],
   "source": [
    "p.ggplot(training_data, p.aes(x='age_treat')) + p.stat_bin(bins=10)"
   ]
  },
  {
   "cell_type": "code",
   "execution_count": 29,
   "id": "555b486a",
   "metadata": {},
   "outputs": [
    {
     "name": "stderr",
     "output_type": "stream",
     "text": [
      "C:\\Users\\caroa\\anaconda3\\lib\\site-packages\\plotnine\\layer.py:324: PlotnineWarning: stat_bin : Removed 4 rows containing non-finite values.\n"
     ]
    },
    {
     "data": {
      "image/png": "[encoded data removed]",
      "text/plain": [
       "<Figure size 640x480 with 1 Axes>"
      ]
     },
     "metadata": {},
     "output_type": "display_data"
    },
    {
     "data": {
      "text/plain": [
       "<ggplot: (151503387965)>"
      ]
     },
     "execution_count": 29,
     "metadata": {},
     "output_type": "execute_result"
    }
   ],
   "source": [
    "p.ggplot(training_data, p.aes(x='age_control')) + p.geom_histogram(bins=10)"
   ]
  },
  {
   "cell_type": "markdown",
   "id": "53e8d925",
   "metadata": {},
   "source": [
    "*should we add this at all? or just leave as theory (equations)?"
   ]
  },
  {
   "cell_type": "markdown",
   "id": "6fbb8772",
   "metadata": {},
   "source": [
    "## 4. Approximate matching\n",
    "\n",
    "### 4.1. Nearest neighbor covariate matching\n",
    "\n",
    "When the number of matching covariates is more than one, we need a new definition of distance to measure closeness between units of observation. \n",
    "\n",
    "* **Euclidean distance**:\n",
    "\n",
    "\\begin{align*}\n",
    "|| X_i - X_j|| & = \\sqrt{(X_i - X_j)' (X_i-X_j)} \\\\\n",
    "&=  \\sqrt{\\sum_{n=1}^{k}(X_{ni} - X_{nj})^2}\n",
    "\\end{align*}\n",
    "\n",
    "\n",
    "* **Normalized Euclidean distance**, a commonly used distance, and what makes it different is that the distance of each variable is scaled by the variable’s variance:\n",
    "\n",
    "$|| X_i - X_j|| = \\sqrt{\\sum_{n=1}^{k} \\frac{(X_{ni} - X_{nj})}{\\hat{\\sigma_n}^2}}$\n",
    "\n",
    "* **Mahalanobis distance**, another scale-invariant metric:\n",
    "\n",
    "$|| X_i - X_j|| = \\sqrt{(X_i - X_j)' \\hat{\\sum_{X}^{-1}} (X_i-X_j)}$\n",
    "\n",
    "where $\\hat{\\sum_{X}^{-1}}$ is the variance-covariance matrix of $X$.\n",
    "\n",
    "The problem with this is that we can introduce discrepancies; that is, when $X_i$ is not equal to $X_j$. Here, the difference is called bias, and it can be large, small or close to zero. For large samples, the bias tend to converge to zero. Hoewever, the larger the dimension, the greater likelihood of matching discrepancies, and the more data is needed.\n",
    "\n",
    "### 4.2. Bias Correction\n",
    "\n",
    "Bias derivation:\n",
    "\n",
    "$\\hat{\\delta}_{ATT}= \\frac{1}{N_T} \\sum_{D_i=1}(Y_i-Y_{j(i)})$\n",
    "\n",
    "$\\mu^0(x)=E[Y|X=x, D=0]=E[Y^0|X=x]$\n",
    "\n",
    "$\\mu^1(x)=E[Y|X=x, D=1]=E[Y^1|X=x]$\n",
    "\n",
    "where the observed value is a function of expected conditional outcomes and some stochastic element:\n",
    "\n",
    "$Y_i=\\mu^{D_i}(X_i) + \\varepsilon_i$\n",
    "\n",
    "rewriting the ATT estimator we get:\n",
    "\n",
    "\\begin{align*}\n",
    "\\hat{\\delta}_{ATT} & =\\frac{1}{N_T}\\sum_{D_i=1}((\\mu^{1}(X_i) + \\varepsilon_i) - (\\mu^{0}(X_{j(i)}) + \\varepsilon_{j(i)})) \\\\\n",
    "& =\\frac{1}{N_T}\\sum_{D_i=1}(\\mu^{1}(X_i) - \\mu^{0}(X_{j(i)}) + \\frac{1}{N_T}\\sum_{D_i=1} (\\varepsilon_i - \\varepsilon_{j(i)})\n",
    "\\end{align*}\n",
    "\n",
    "\n",
    "Now lets compare the estimator with the true value of ATT:\n",
    "\\begin{align*}\n",
    "\\hat{\\delta}_{ATT} - \\delta_{ATT} & = \\frac{1}{N_T}\\sum_{D_i=1}(\\mu^{1}(X_i) - \\mu^{0}(X_{j(i)}) - \\delta_{ATT} + \\frac{1}{N_T}\\sum_{D_i=1} (\\varepsilon_i - \\varepsilon_{j(i)}) \\\\\n",
    "&=  \\frac{1}{N_T}\\sum_{D_i=1}(\\mu^{1}(X_i) - \\mu^{0}(X_{j(i)}) - \\delta_{ATT}) + \\frac{1}{N_T}\\sum_{D_i=1} (\\varepsilon_i - \\varepsilon_{j(i)}) + \\frac{1}{N_T}\\sum_{D_i=1}(\\mu^{0}(X_i) - \\mu^{0}(X_{j(i)})\n",
    "\\end{align*}\n",
    "\n",
    "$E[\\sqrt{N_T}(\\hat{\\delta}_{ATT} - \\delta_{ATT})]=E[\\sqrt{N_T}(\\mu^{0}(X_i) - \\mu^{0}(X_{j(i)}| D=1]$\n",
    "\n",
    "Consider when the number of covariates is large. Then:\n",
    "\n",
    "* The difference between $X_i$ and $X_j(i)$ converges to zero slowly.\n",
    "\n",
    "* $\\mu^{0}(X_i) - \\mu^{0}(X_{j(i)})$ converges slowly to zero.\n",
    "\n",
    "* $E[\\sqrt{N_T}(\\mu^{0}(X_i) - \\mu^{0}(X_{j(i)}| D=1]$ may not converge to zero.\n",
    "\n",
    "* $E[\\sqrt{N_T}(\\hat{\\delta}_{ATT}- \\delta_{ATT})]$ may not converge to zero.\n",
    "\n",
    "Note that the total bias is made up of the bias associated with each individual unit $i$. This means that each treated observation contributes $\\mu^{0}(X_i) - \\mu^{0}(X_{j(i)})$ to the overall bias. The bias corrected estimator following Abadie and Imbens (2011) is then:\n",
    "\n",
    "$\\frac{1}{N_T}\\sum_{D_i=1}[(Y_i - Y_{j(i)}) - \\hat{\\mu}^{0}(X_i) - \\hat{\\mu}^{0}(X_{j(i)})]$\n",
    "\n",
    "where one could use OLS to estimate $\\hat{\\mu}^{0}(X)$\n",
    "\n",
    "Example:"
   ]
  },
  {
   "cell_type": "code",
   "execution_count": 30,
   "id": "81d43393",
   "metadata": {},
   "outputs": [
    {
     "data": {
      "text/html": [
       "<div>\n",
       "<style scoped>\n",
       "    .dataframe tbody tr th:only-of-type {\n",
       "        vertical-align: middle;\n",
       "    }\n",
       "\n",
       "    .dataframe tbody tr th {\n",
       "        vertical-align: top;\n",
       "    }\n",
       "\n",
       "    .dataframe thead th {\n",
       "        text-align: right;\n",
       "    }\n",
       "</style>\n",
       "<table border=\"1\" class=\"dataframe\">\n",
       "  <thead>\n",
       "    <tr style=\"text-align: right;\">\n",
       "      <th></th>\n",
       "      <th>Unit</th>\n",
       "      <th>Y</th>\n",
       "      <th>D</th>\n",
       "      <th>X</th>\n",
       "    </tr>\n",
       "  </thead>\n",
       "  <tbody>\n",
       "    <tr>\n",
       "      <th>0</th>\n",
       "      <td>1</td>\n",
       "      <td>5</td>\n",
       "      <td>1</td>\n",
       "      <td>11</td>\n",
       "    </tr>\n",
       "    <tr>\n",
       "      <th>1</th>\n",
       "      <td>2</td>\n",
       "      <td>2</td>\n",
       "      <td>1</td>\n",
       "      <td>7</td>\n",
       "    </tr>\n",
       "    <tr>\n",
       "      <th>2</th>\n",
       "      <td>3</td>\n",
       "      <td>10</td>\n",
       "      <td>1</td>\n",
       "      <td>5</td>\n",
       "    </tr>\n",
       "    <tr>\n",
       "      <th>3</th>\n",
       "      <td>4</td>\n",
       "      <td>6</td>\n",
       "      <td>1</td>\n",
       "      <td>3</td>\n",
       "    </tr>\n",
       "    <tr>\n",
       "      <th>4</th>\n",
       "      <td>5</td>\n",
       "      <td>4</td>\n",
       "      <td>0</td>\n",
       "      <td>10</td>\n",
       "    </tr>\n",
       "    <tr>\n",
       "      <th>5</th>\n",
       "      <td>6</td>\n",
       "      <td>0</td>\n",
       "      <td>0</td>\n",
       "      <td>8</td>\n",
       "    </tr>\n",
       "    <tr>\n",
       "      <th>6</th>\n",
       "      <td>7</td>\n",
       "      <td>5</td>\n",
       "      <td>0</td>\n",
       "      <td>4</td>\n",
       "    </tr>\n",
       "    <tr>\n",
       "      <th>7</th>\n",
       "      <td>8</td>\n",
       "      <td>1</td>\n",
       "      <td>0</td>\n",
       "      <td>1</td>\n",
       "    </tr>\n",
       "  </tbody>\n",
       "</table>\n",
       "</div>"
      ],
      "text/plain": [
       "   Unit   Y  D   X\n",
       "0     1   5  1  11\n",
       "1     2   2  1   7\n",
       "2     3  10  1   5\n",
       "3     4   6  1   3\n",
       "4     5   4  0  10\n",
       "5     6   0  0   8\n",
       "6     7   5  0   4\n",
       "7     8   1  0   1"
      ]
     },
     "execution_count": 30,
     "metadata": {},
     "output_type": "execute_result"
    }
   ],
   "source": [
    "training_bias_reduc = pd.read_stata(\"Data/training_bias_reduction.dta\")\n",
    "training_bias_reduc"
   ]
  },
  {
   "cell_type": "code",
   "execution_count": 31,
   "id": "7e9d337a",
   "metadata": {},
   "outputs": [
    {
     "data": {
      "text/html": [
       "<div>\n",
       "<style scoped>\n",
       "    .dataframe tbody tr th:only-of-type {\n",
       "        vertical-align: middle;\n",
       "    }\n",
       "\n",
       "    .dataframe tbody tr th {\n",
       "        vertical-align: top;\n",
       "    }\n",
       "\n",
       "    .dataframe thead th {\n",
       "        text-align: right;\n",
       "    }\n",
       "</style>\n",
       "<table border=\"1\" class=\"dataframe\">\n",
       "  <thead>\n",
       "    <tr style=\"text-align: right;\">\n",
       "      <th></th>\n",
       "      <th>Unit</th>\n",
       "      <th>Y</th>\n",
       "      <th>D</th>\n",
       "      <th>X</th>\n",
       "      <th>Y1</th>\n",
       "      <th>Y0</th>\n",
       "    </tr>\n",
       "  </thead>\n",
       "  <tbody>\n",
       "    <tr>\n",
       "      <th>0</th>\n",
       "      <td>1</td>\n",
       "      <td>5</td>\n",
       "      <td>1</td>\n",
       "      <td>11</td>\n",
       "      <td>1</td>\n",
       "      <td>4</td>\n",
       "    </tr>\n",
       "    <tr>\n",
       "      <th>1</th>\n",
       "      <td>2</td>\n",
       "      <td>2</td>\n",
       "      <td>1</td>\n",
       "      <td>7</td>\n",
       "      <td>1</td>\n",
       "      <td>0</td>\n",
       "    </tr>\n",
       "    <tr>\n",
       "      <th>2</th>\n",
       "      <td>3</td>\n",
       "      <td>10</td>\n",
       "      <td>1</td>\n",
       "      <td>5</td>\n",
       "      <td>1</td>\n",
       "      <td>5</td>\n",
       "    </tr>\n",
       "    <tr>\n",
       "      <th>3</th>\n",
       "      <td>4</td>\n",
       "      <td>6</td>\n",
       "      <td>1</td>\n",
       "      <td>3</td>\n",
       "      <td>1</td>\n",
       "      <td>1</td>\n",
       "    </tr>\n",
       "    <tr>\n",
       "      <th>4</th>\n",
       "      <td>5</td>\n",
       "      <td>4</td>\n",
       "      <td>0</td>\n",
       "      <td>10</td>\n",
       "      <td>0</td>\n",
       "      <td>4</td>\n",
       "    </tr>\n",
       "    <tr>\n",
       "      <th>5</th>\n",
       "      <td>6</td>\n",
       "      <td>0</td>\n",
       "      <td>0</td>\n",
       "      <td>8</td>\n",
       "      <td>0</td>\n",
       "      <td>0</td>\n",
       "    </tr>\n",
       "    <tr>\n",
       "      <th>6</th>\n",
       "      <td>7</td>\n",
       "      <td>5</td>\n",
       "      <td>0</td>\n",
       "      <td>4</td>\n",
       "      <td>0</td>\n",
       "      <td>5</td>\n",
       "    </tr>\n",
       "    <tr>\n",
       "      <th>7</th>\n",
       "      <td>8</td>\n",
       "      <td>1</td>\n",
       "      <td>0</td>\n",
       "      <td>1</td>\n",
       "      <td>0</td>\n",
       "      <td>1</td>\n",
       "    </tr>\n",
       "  </tbody>\n",
       "</table>\n",
       "</div>"
      ],
      "text/plain": [
       "   Unit   Y  D   X  Y1  Y0\n",
       "0     1   5  1  11   1   4\n",
       "1     2   2  1   7   1   0\n",
       "2     3  10  1   5   1   5\n",
       "3     4   6  1   3   1   1\n",
       "4     5   4  0  10   0   4\n",
       "5     6   0  0   8   0   0\n",
       "6     7   5  0   4   0   5\n",
       "7     8   1  0   1   0   1"
      ]
     },
     "execution_count": 31,
     "metadata": {},
     "output_type": "execute_result"
    }
   ],
   "source": [
    "training_bias_reduc['Y1'] = 0\n",
    "training_bias_reduc.loc[training_bias_reduc['Unit'].isin(range(1,5)), 'Y1'] = 1\n",
    "training_bias_reduc['Y0'] = (4,0,5,1,4,0,5,1)\n",
    "training_bias_reduc"
   ]
  },
  {
   "cell_type": "code",
   "execution_count": 32,
   "id": "ddb7530e",
   "metadata": {},
   "outputs": [
    {
     "data": {
      "text/html": [
       "<div>\n",
       "<style scoped>\n",
       "    .dataframe tbody tr th:only-of-type {\n",
       "        vertical-align: middle;\n",
       "    }\n",
       "\n",
       "    .dataframe tbody tr th {\n",
       "        vertical-align: top;\n",
       "    }\n",
       "\n",
       "    .dataframe thead th {\n",
       "        text-align: right;\n",
       "    }\n",
       "</style>\n",
       "<table border=\"1\" class=\"dataframe\">\n",
       "  <thead>\n",
       "    <tr style=\"text-align: right;\">\n",
       "      <th></th>\n",
       "      <th>Unit</th>\n",
       "      <th>Y1</th>\n",
       "      <th>Y0</th>\n",
       "      <th>Y</th>\n",
       "      <th>D</th>\n",
       "      <th>X</th>\n",
       "      <th>u_hat0</th>\n",
       "    </tr>\n",
       "  </thead>\n",
       "  <tbody>\n",
       "    <tr>\n",
       "      <th>0</th>\n",
       "      <td>1</td>\n",
       "      <td>1</td>\n",
       "      <td>4</td>\n",
       "      <td>5</td>\n",
       "      <td>1</td>\n",
       "      <td>11</td>\n",
       "      <td>3.888071</td>\n",
       "    </tr>\n",
       "    <tr>\n",
       "      <th>1</th>\n",
       "      <td>2</td>\n",
       "      <td>1</td>\n",
       "      <td>0</td>\n",
       "      <td>2</td>\n",
       "      <td>1</td>\n",
       "      <td>7</td>\n",
       "      <td>4.082474</td>\n",
       "    </tr>\n",
       "    <tr>\n",
       "      <th>2</th>\n",
       "      <td>3</td>\n",
       "      <td>1</td>\n",
       "      <td>5</td>\n",
       "      <td>10</td>\n",
       "      <td>1</td>\n",
       "      <td>5</td>\n",
       "      <td>4.179676</td>\n",
       "    </tr>\n",
       "    <tr>\n",
       "      <th>3</th>\n",
       "      <td>4</td>\n",
       "      <td>1</td>\n",
       "      <td>1</td>\n",
       "      <td>6</td>\n",
       "      <td>1</td>\n",
       "      <td>3</td>\n",
       "      <td>4.276878</td>\n",
       "    </tr>\n",
       "    <tr>\n",
       "      <th>4</th>\n",
       "      <td>5</td>\n",
       "      <td>0</td>\n",
       "      <td>4</td>\n",
       "      <td>4</td>\n",
       "      <td>0</td>\n",
       "      <td>10</td>\n",
       "      <td>3.936672</td>\n",
       "    </tr>\n",
       "    <tr>\n",
       "      <th>5</th>\n",
       "      <td>6</td>\n",
       "      <td>0</td>\n",
       "      <td>0</td>\n",
       "      <td>0</td>\n",
       "      <td>0</td>\n",
       "      <td>8</td>\n",
       "      <td>4.033873</td>\n",
       "    </tr>\n",
       "    <tr>\n",
       "      <th>6</th>\n",
       "      <td>7</td>\n",
       "      <td>0</td>\n",
       "      <td>5</td>\n",
       "      <td>5</td>\n",
       "      <td>0</td>\n",
       "      <td>4</td>\n",
       "      <td>4.228277</td>\n",
       "    </tr>\n",
       "    <tr>\n",
       "      <th>7</th>\n",
       "      <td>8</td>\n",
       "      <td>0</td>\n",
       "      <td>1</td>\n",
       "      <td>1</td>\n",
       "      <td>0</td>\n",
       "      <td>1</td>\n",
       "      <td>4.374080</td>\n",
       "    </tr>\n",
       "  </tbody>\n",
       "</table>\n",
       "</div>"
      ],
      "text/plain": [
       "   Unit  Y1  Y0   Y  D   X    u_hat0\n",
       "0     1   1   4   5  1  11  3.888071\n",
       "1     2   1   0   2  1   7  4.082474\n",
       "2     3   1   5  10  1   5  4.179676\n",
       "3     4   1   1   6  1   3  4.276878\n",
       "4     5   0   4   4  0  10  3.936672\n",
       "5     6   0   0   0  0   8  4.033873\n",
       "6     7   0   5   5  0   4  4.228277\n",
       "7     8   0   1   1  0   1  4.374080"
      ]
     },
     "execution_count": 32,
     "metadata": {},
     "output_type": "execute_result"
    }
   ],
   "source": [
    "train_reg = sm.OLS.from_formula('Y ~ X', training_bias_reduc).fit()\n",
    "training_bias_reduc['u_hat0'] = train_reg.predict(training_bias_reduc)\n",
    "training_bias_reduc = training_bias_reduc[['Unit', 'Y1', 'Y0', 'Y', 'D', 'X', 'u_hat0']]\n",
    "training_bias_reduc"
   ]
  },
  {
   "cell_type": "markdown",
   "id": "930c8033",
   "metadata": {},
   "source": [
    "### 5. Propensity score methods\n",
    "\n",
    "The key idea behind propensity score methods is to compare units who, based on observables, had very similar probabilities of being placed into the treatment group even though those units differed with regard to actual treatment assignment. If conditional on any covariate, two units have the same probability of being treated, then one can say they have similar propensity scores, and all remaining variation in treatment assignment is random. Then, if also the CIA assumption credibly holds, then differences between their observed outcomes are attributable to the treatment.\n",
    "\n",
    "#### 5.1. Example\n",
    "\n",
    "The National Supported Work Demonstration (NSW) job-training program was a temporary employment program designed to help disadvantaged workers lacking basic job skills move into the labor market by giving them work experience and counseling in a sheltered environment.\n",
    "\n",
    "The independence assumption in the NSW holds since it was randomized program, so calculating the treatment effect would be just a simple difference in means. Treatment group participants’ real earnings post-treatment in 1978 were more than earnings of the control group by approximately USD 900 (Lalonde 1986) to USD 1,800 (Dehejia and Wahba 2002), depending on the sample the researcher used.\n",
    "\n",
    "Lalonde 1986 reviewed several econometric methods using data from the experimental control group and other sources of data for nonexperimental control groups (CPS and PSID) and compare them. The results show that there is a big difference between using the experimental control group and nonexperimental control groups for comparison. \n",
    "\n",
    "![title](Material/table6.png)\n",
    "\n",
    "The reason is because of selection bias:\n",
    "\n",
    "$E[Y^0|D=1] \\neq E[Y^0|D=0]$\n",
    "\n",
    "Also, the two groups (treatment and nonexperimental group) seem to be *not exchangeable* in covariates:\n",
    "\n",
    "![title](Material/table7.png)\n",
    "\n",
    "Lets now calculate the ATE using the NSW data:"
   ]
  },
  {
   "cell_type": "code",
   "execution_count": 62,
   "id": "280bf405",
   "metadata": {},
   "outputs": [
    {
     "name": "stdout",
     "output_type": "stream",
     "text": [
      "The experimental ATE estimate is 1794.35\n"
     ]
    }
   ],
   "source": [
    "nsw = pd.read_stata('Data/nsw_mixtape.dta')\n",
    "mean1 = nsw[nsw.treat == 1].re78.mean()\n",
    "mean0 = nsw[nsw.treat == 0].re78.mean()\n",
    "ate = np.unique(mean1 - mean0)[0]\n",
    "print(\"The experimental ATE estimate is {:.2f}\".format(ate))"
   ]
  },
  {
   "cell_type": "markdown",
   "id": "f3ca423c",
   "metadata": {},
   "source": [
    "Now, instead of calculating the ATE using the NSW data, lets use the CPS data, so now the control group consists of a random sample of Americans from that time period, whereas the treatment group belongs to an experimental group. Thus, the control group suffers from extreme selection bias since most Americans would not function as counterfactuals for the distressed group of workers who selected into the NSW program.\n",
    "\n",
    "We can use propensity score matching as an improvement in estimating treatment effects using non-experimental data. Following Dehejia and Wahba (2002), we will append the CPS data to the experimental data and estimate the **propensity score** using logit. \n",
    "\n",
    "We use the estimated coefficients from the logit model to estimate the conditional probability of treatment:\n",
    "\n",
    "$Pr(D=1|X)=F(\\beta_0 + \\gamma Treat + \\alpha X)$\n",
    "\n",
    "where $F()=\\frac{e}{(1+e)}$\n",
    "\n",
    "The definition of the propensity score is the selection probability conditional on the confounding variables\n",
    "\n",
    "$p(X)=Pr(D=1|X)$\n",
    "\n",
    "Recall our two assumptions: 1) CIA; 2) Common Support. The CIA assumption is not testable, but common support is testable by simply plotting histograms or summarizing the data."
   ]
  },
  {
   "cell_type": "code",
   "execution_count": 63,
   "id": "f7d2a17c",
   "metadata": {},
   "outputs": [
    {
     "data": {
      "text/plain": [
       "treat\n",
       "0.0    0.009212\n",
       "1.0    0.190701\n",
       "Name: pscore, dtype: float64"
      ]
     },
     "execution_count": 63,
     "metadata": {},
     "output_type": "execute_result"
    }
   ],
   "source": [
    "cps = pd.read_stata('Data/cps_mixtape.dta')\n",
    "cps = pd.concat((cps, nsw))\n",
    "cps[['u74', 'u75']] = 0\n",
    "cps.loc[cps.re74 == 0, 'u74'] = 1\n",
    "cps.loc[cps.re75 == 0, 'u75'] = 1\n",
    "\n",
    "# estimating propensity score\n",
    "logit_nsw = smf.glm(formula=\"\"\"treat ~ age + age**2 + age**3 + educ + educ**2 + \n",
    "                    marr + nodegree + black + hisp + re74 + re75 + u74 + u75 + educ*re74\"\"\", \n",
    "                    family=sm.families.Binomial(),\n",
    "                    data=cps).fit()\n",
    "                  \n",
    "cps['pscore'] = logit_nsw.predict(cps)\n",
    "\n",
    "cps.groupby('treat')['pscore'].mean()"
   ]
  },
  {
   "cell_type": "code",
   "execution_count": 64,
   "id": "87f8829e",
   "metadata": {},
   "outputs": [
    {
     "name": "stderr",
     "output_type": "stream",
     "text": [
      "C:\\Users\\caroa\\anaconda3\\lib\\site-packages\\plotnine\\facets\\facet.py:390: PlotnineWarning: If you need more space for the x-axis tick text use ... + theme(subplots_adjust={'wspace': 0.25}). Choose an appropriate value for 'wspace'.\n"
     ]
    },
    {
     "data": {
      "image/png": "[encoded data removed]",
      "text/plain": [
       "<Figure size 640x480 with 2 Axes>"
      ]
     },
     "metadata": {},
     "output_type": "display_data"
    },
    {
     "data": {
      "text/plain": [
       "<ggplot: (151503283634)>"
      ]
     },
     "execution_count": 64,
     "metadata": {},
     "output_type": "execute_result"
    }
   ],
   "source": [
    "p.ggplot(cps, \n",
    "         p.aes(x='pscore')) + p.geom_histogram(bins=50) + p.facet_wrap(\"treat\", scales='free')"
   ]
  },
  {
   "cell_type": "code",
   "execution_count": 65,
   "id": "b0f2e025",
   "metadata": {},
   "outputs": [
    {
     "data": {
      "text/plain": [
       "treat      \n",
       "0.0    0.01    0.000040\n",
       "       0.05    0.000046\n",
       "       0.10    0.000053\n",
       "       0.25    0.000091\n",
       "       0.50    0.000380\n",
       "       0.75    0.002481\n",
       "       0.90    0.010569\n",
       "       0.95    0.029357\n",
       "       0.99    0.287441\n",
       "1.0    0.01    0.001923\n",
       "       0.05    0.005709\n",
       "       0.10    0.011148\n",
       "       0.25    0.086148\n",
       "       0.50    0.195483\n",
       "       0.75    0.313613\n",
       "       0.90    0.343488\n",
       "       0.95    0.354946\n",
       "       0.99    0.364708\n",
       "Name: pscore, dtype: float64"
      ]
     },
     "execution_count": 65,
     "metadata": {},
     "output_type": "execute_result"
    }
   ],
   "source": [
    "df = (cps.groupby('treat')['pscore'].quantile([.01,.05,.1,.25,.5,.75,.90,.95, .99]))\n",
    "df"
   ]
  },
  {
   "cell_type": "code",
   "execution_count": 66,
   "id": "699436ad",
   "metadata": {},
   "outputs": [
    {
     "data": {
      "text/plain": [
       "treat\n",
       "0.0    0.009212\n",
       "1.0    0.190701\n",
       "Name: pscore, dtype: float64"
      ]
     },
     "execution_count": 66,
     "metadata": {},
     "output_type": "execute_result"
    }
   ],
   "source": [
    "cps.groupby('treat')['pscore'].mean()"
   ]
  },
  {
   "cell_type": "markdown",
   "id": "ca5e2ae0",
   "metadata": {},
   "source": [
    "How to interpret the large mass of nearly zero propensity scores in the histogram?"
   ]
  },
  {
   "cell_type": "markdown",
   "id": "8ecee29d",
   "metadata": {},
   "source": [
    "The treatment parameter under the CIA and Common support assumption is:\n",
    "\n",
    "\\begin{align*}\n",
    "E[\\delta_i(X_i)] & =E=[Y_{i}^1 - Y_{i}^0| X_i=x] \\\\\n",
    "&= E[Y_{i}^1|X_i=x]-E[Y_{i}^0|X_i=x]\n",
    "\\end{align*}\n",
    "\n",
    "The CIA allows to:\n",
    "\n",
    "$E[Y_{i}^1|D_i=1, X_i=x]= E[Y_{i}|D_i=1, X_i=x]$\n",
    "\n",
    "so under both assumptions:\n",
    "\n",
    "$\\delta=E[\\delta_i(X_i)]$\n",
    "\n",
    "The *propensity score theorem* states that under the CIA this yields:\n",
    "\n",
    "$(Y^1, Y^0) \\perp D| p(X)$\n",
    "\n",
    "where $p(X)$ is the propensity score.\n",
    "\n",
    "**Proof of the propensity score**\n",
    "\n",
    "\\begin{align*}\n",
    "Pr(D=1|Y^1, Y^0, p(X))& =E[D|Y^1, Y^0, p(X)] \\\\\n",
    "&=\\underbrace{E[E[D|Y^1, Y^0, p(X), X]|Y^1, Y^0, p(X)]}_{by \\: LIE} \\\\\n",
    "&=\\underbrace{E[E[D|Y^1, Y^0, X]|Y^1, Y^0, p(X)]}_{given \\: X \\: we \\: know \\: p(X)} \\\\\n",
    "&=\\underbrace{E[E[D|X]|Y^1, Y^0, p(X)]}_{by \\: conditional \\: independence} \\\\\n",
    "&=\\underbrace{E[p(X)|Y^1, Y^0, p(X)]}_{propensity \\: score \\: definition} \\\\\n",
    "&=p(X)\n",
    "\\end{align*}\n",
    "\n",
    "proceeding similarly, we get:\n",
    "\n",
    "\\begin{align*}\n",
    "Pr(D=1|p(X))& =\\underbrace{E[D|p(X)]}_{previous \\: argument} \\\\\n",
    "&=\\underbrace{E[E[D|X]|p(X)]}_{LIE} \\\\\n",
    "&=\\underbrace{E[p(X)|p(X)]}_{definition} \\\\\n",
    "&=p(X)\n",
    "\\end{align*}\n",
    "\n",
    "where $Pr(D=1|Y^1, Y^0, p(X))=Pr(D=1|p(X))$ by CIA assumption.\n",
    "\n",
    "The propensity score theorem says:\n",
    "\n",
    "* control for covariates that determine the likelihood a unit receives the treatment.\n",
    "* the only covariate to condition on is the propensity score.\n",
    "\n",
    "The balancing property of the propensity score is:\n",
    "\n",
    "$Pr(X|D=1, p(X))=Pr(X|D=0, p(X))$ and says that, conditional on the propensity score, the distribution of the covariates is the same for the treatment as it is for the control group.\n",
    "\n",
    "![title](Material/image1.png)\n",
    "\n",
    "### 5.2. Weighting on the propensity score\n",
    "\n",
    "Assuming that CIA holds in our data, one way we can estimate treatment effects is to use a weighting procedure in which each individual’s propensity score is a weight of that individual’s outcome. When aggregated, this has the potential to identify some average treatment effect. \n",
    "\n",
    "\\begin{align*}\n",
    "\\delta_{ATE}& =E[Y^1-Y^0] \\\\\n",
    "&=E[Y  \\frac{D-p(X)}{p(X)(1-p(X)}]\\\\\n",
    "\\delta_{ATT}& =E[Y^1-Y^0|D=1] \\\\\n",
    "&=\\frac{1}{Pr(D=1)}E[Y  \\frac{D-p(X)}{(1-p(X)}]\\\\\n",
    "\\end{align*}\n",
    "\n",
    "Both ATE and ATT sample versions are estimated by a two-step estimation.\n",
    "\n",
    "1) Estimate propensity score using logit or probit.\n",
    "2) Use the estimated score to produce sample versions of one of the average treatment effect estimators shown above.\n",
    "\n",
    "$\\hat{\\delta}_{ATE}=\\frac{1}{N} \\sum_{i=1}^{N} \\frac{D_i-\\hat{p}(X_i)}{\\hat{p}(X_i)(1-\\hat{p}(X_i))}$\n",
    "\n",
    "$\\hat{\\delta}_{ATT}=\\frac{1}{N_T} \\sum_{i=1}^{N} \\frac{D_i-\\hat{p}(X_i)}{1-\\hat{p}(X_i)}$\n",
    "\n",
    "The sensitivity of inverse probability weighting to extreme values of the propensity score has led some researchers to propose an alternative that can handle extremes a bit better.\n",
    "\n",
    "$\\hat{\\delta}_{ATT}=[\\sum_{i=1}^{N} \\frac{Y_iD_i}{p}] / [\\sum_{i=1}^{N} \\frac{D_i}{\\hat{p}}] - [\\sum_{i=1}^{N}\\frac{Y_i(1-D_i)}{1-\\hat{p}}]/[\\sum_{i=1}^{N}\\frac{(1-D_i)}{(1-\\hat{p})}]$"
   ]
  },
  {
   "cell_type": "code",
   "execution_count": 73,
   "id": "0195807f",
   "metadata": {},
   "outputs": [
    {
     "name": "stdout",
     "output_type": "stream",
     "text": [
      "Treatment Effect (normalized, all data): -7044.80\n"
     ]
    }
   ],
   "source": [
    "nsw_dw_cpscontrol['y1'] = nsw_dw_cpscontrol.treat * nsw_dw_cpscontrol.re78 / nsw_dw_cpscontrol.pscore\n",
    "nsw_dw_cpscontrol['y1'] /= s1/N\n",
    "nsw_dw_cpscontrol['y0'] = (1 - nsw_dw_cpscontrol.treat) * nsw_dw_cpscontrol.re78 / (1 - nsw_dw_cpscontrol.pscore)\n",
    "nsw_dw_cpscontrol['y0'] /= s0/N\n",
    "nsw_dw_cpscontrol['ht'] = nsw_dw_cpscontrol['y1'] - nsw_dw_cpscontrol['y0']\n",
    "\n",
    "te_2 = nsw_dw_cpscontrol.ht.mean()\n",
    "\n",
    "print(\"Treatment Effect (normalized, all data): {:.2f}\".format(te_2))"
   ]
  },
  {
   "cell_type": "code",
   "execution_count": 69,
   "id": "33544eac",
   "metadata": {},
   "outputs": [
    {
     "name": "stdout",
     "output_type": "stream",
     "text": [
      "Treatment Effect (non-normalized, all data): -11535.55\n"
     ]
    }
   ],
   "source": [
    "N = cps.shape[0]\n",
    "\n",
    "# Manual with non-normalized weights using all data\n",
    "cps = cps\n",
    "cps['d1'] = cps.treat / cps.pscore\n",
    "cps['d0'] = (1 - cps.treat) / (1 - cps.pscore)\n",
    "\n",
    "\n",
    "s1 = cps.d1.sum()\n",
    "s0 = cps.d0.sum()\n",
    "\n",
    "cps['y1'] = cps.treat * cps.re78 / cps.pscore\n",
    "cps['y0'] = (1 - cps.treat) * cps.re78 / (1 - cps.pscore)\n",
    "cps['ht'] = cps['y1'] - cps['y0']\n",
    "te_1 = cps.ht.mean()\n",
    "\n",
    "print(\"Treatment Effect (non-normalized, all data): {:.2f}\".format(te_1))"
   ]
  },
  {
   "cell_type": "code",
   "execution_count": 74,
   "id": "3910371c",
   "metadata": {},
   "outputs": [
    {
     "name": "stdout",
     "output_type": "stream",
     "text": [
      "Treatment Effect (normalized, all data): -7044.80\n"
     ]
    }
   ],
   "source": [
    "cps['y1'] = cps.treat * cps.re78 / cps.pscore\n",
    "cps['y1'] /= s1 / N\n",
    "cps['temp'] = 1 - cps.treat\n",
    "cps['temp2'] = 1 - cps.pscore\n",
    "cps['y0'] = (cps.temp) * cps.re78 / (cps.temp2)\n",
    "cps['y0'] /= s0 / N\n",
    "cps['ht'] = cps['y1'] - cps['y0']\n",
    "\n",
    "te_2 = cps.ht.mean()\n",
    "\n",
    "print(\"Treatment Effect (normalized, all data): {:.2f}\".format(te_2))"
   ]
  },
  {
   "cell_type": "code",
   "execution_count": 75,
   "id": "f927a0c1",
   "metadata": {},
   "outputs": [
    {
     "name": "stdout",
     "output_type": "stream",
     "text": [
      "Treatment Effect (non-normalized, trimmed data): 2486.22\n"
     ]
    }
   ],
   "source": [
    "trimmed = cps.drop(['d1', 'd0', 'y1', 'y0'], axis=1)\n",
    "trimmed = trimmed[trimmed.pscore.between(.1, .9)]\n",
    "N = trimmed.shape[0]\n",
    "\n",
    "trimmed['y1'] = trimmed.treat * trimmed.re78 / trimmed.pscore\n",
    "trimmed['y0'] = (1 - trimmed.treat) * trimmed.re78 / (1 - trimmed.pscore)\n",
    "trimmed['ht'] = trimmed['y1'] - trimmed['y0']\n",
    "\n",
    "te_3 = trimmed.ht.mean()\n",
    "\n",
    "print(\"Treatment Effect (non-normalized, trimmed data): {:.2f}\".format(te_3))"
   ]
  },
  {
   "cell_type": "code",
   "execution_count": 76,
   "id": "66af21d9",
   "metadata": {},
   "outputs": [
    {
     "name": "stdout",
     "output_type": "stream",
     "text": [
      "Treatment Effect (normalized, trimmed data): 423.62\n"
     ]
    }
   ],
   "source": [
    "trimmed['y1'] = trimmed.treat * trimmed.re78 / trimmed.pscore\n",
    "trimmed['y1'] /= s1 / N\n",
    "trimmed['y0'] = (1 - trimmed.treat) * trimmed.re78 / (1 - trimmed.pscore)\n",
    "trimmed['y0'] /= s0 / N\n",
    "trimmed['ht'] = trimmed['y1'] - trimmed['y0']\n",
    "\n",
    "te_4 = trimmed.ht.mean()\n",
    "\n",
    "print(\"Treatment Effect (normalized, trimmed data): {:.2f}\".format(te_4))"
   ]
  },
  {
   "cell_type": "markdown",
   "id": "270211d7",
   "metadata": {},
   "source": [
    "### 5.3. Nearest-neighbor matching\n",
    "\n",
    "Nearest-neighbor matching using the propensity score pairs each treatment unit $i$ with one or more comparable control group units $j$, where comparability is measured in terms of distance to the nearest propensity score.\n",
    "\n",
    "$\\widehat{ATT}=\\frac{1}{N_t}(Y_i-Y_{i(j)}$"
   ]
  },
  {
   "cell_type": "markdown",
   "id": "414533b7",
   "metadata": {},
   "source": [
    "### 5.4. Coarsened exact matching (CEM)\n",
    "\n",
    "This is a kind of exact matching that allows to do exact matching one you coarsed the data enough.  Once we find those matches, we calculate weights on the basis of where a person fits in some strata, and those weights are used in a simple weighted regression.\n",
    "\n",
    "How its done:\n",
    "\n",
    "1. Begin with $X$ covariates and create $X*$ which is a copy of $X$.\n",
    "2. Coarsen $X*$: For example, schooling becomes less than high school, high school only, some college, college graduate, post college.\n",
    "3. Create stratums and place each observation of $X*$ into a stratum.\n",
    "4. Assign these strata to the original and uncoarsened data,$X$.\n",
    "5. Drop any observation whose stratum doesn’t contain at least one treated and control unit.\n",
    "6. Add weights for stratum size and analyze without matching.\n",
    "\n",
    "CEM is part of a class of matching methods called monotonic imbalance bounding (MIB), that bound the maximum imbalance in some feature of the empirical distributions by an ex ante decision by the user. By choosing the coarsening beforehand, users can control the amount of imbalance in the matching solution.\n",
    "\n",
    "$L1(f,g)=\\frac{1}{2} \\sum_{l1,...,lk} |f_{l1...lk}-g_{l1...lk}|$\n",
    "\n",
    "where perfect global is L1=0 and L1=1 maximum imbalance.\n",
    "\n",
    "# 6. Conclusions\n",
    "\n",
    "* The propensity score can make groups comparable, but only on the variables used to estimate the propensity score in the first place.\n",
    "\n",
    "* Every matching solution to a causality problem requires a credible belief that the backdoor criterion can be achieved by conditioning on some matrix $X$, or what we’ve called CIA"
   ]
  }
 ],
 "metadata": {
  "kernelspec": {
   "display_name": "Python 3",
   "language": "python",
   "name": "python3"
  },
  "language_info": {
   "codemirror_mode": {
    "name": "ipython",
    "version": 3
   },
   "file_extension": ".py",
   "mimetype": "text/x-python",
   "name": "python",
   "nbconvert_exporter": "python",
   "pygments_lexer": "ipython3",
   "version": "3.8.8"
  }
 },
 "nbformat": 4,
 "nbformat_minor": 5
}
