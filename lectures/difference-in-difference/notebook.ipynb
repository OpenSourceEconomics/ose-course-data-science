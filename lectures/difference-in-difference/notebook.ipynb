{
 "cells": [
  {
   "cell_type": "markdown",
   "id": "893c970a",
   "metadata": {},
   "source": [
    "# Difference in Difference\n"
   ]
  },
  {
   "cell_type": "markdown",
   "id": "3ad6f999",
   "metadata": {},
   "source": [
    "### References\n",
    "\n",
    "* **Athey, S., & Imbens, G. (2021)**. [Design-based analysis in difference-in-differences settings with staggered adoption](https://www.sciencedirect.com/science/article/abs/pii/S0304407621000488), *Journal of Econometrics*.\n",
    "\n",
    "\n",
    "* **Bertrand, M., Dufflo, E., & Mullainathan, S. (2004)**. [How much should we trust differences-in-differences estimates?](https://ideas.repec.org/a/oup/qjecon/v119y2004i1p249-275..html), *The Quarterly Journal of Economics*, 119(1), 249-275.\n",
    "\n",
    "\n",
    "* **Goodman-Bacon, A. (2021)**. [Difference-in-differences with variation in treatment timing](https://www.sciencedirect.com/science/article/abs/pii/S0304407621001445), *Journal of Econometrics*, 255(2), 254-277."
   ]
  }
 ],
 "metadata": {
  "kernelspec": {
   "display_name": "Python 3",
   "language": "python",
   "name": "python3"
  },
  "language_info": {
   "codemirror_mode": {
    "name": "ipython",
    "version": 3
   },
   "file_extension": ".py",
   "mimetype": "text/x-python",
   "name": "python",
   "nbconvert_exporter": "python",
   "pygments_lexer": "ipython3",
   "version": "3.8.8"
  }
 },
 "nbformat": 4,
 "nbformat_minor": 5
}
