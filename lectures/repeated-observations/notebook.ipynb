{
 "cells": [
  {
   "cell_type": "markdown",
   "metadata": {},
   "source": [
    "# Repeated observations and the estimation of causal effects"
   ]
  },
  {
   "cell_type": "code",
   "execution_count": 2,
   "metadata": {
    "nbsphinx": "hidden"
   },
   "outputs": [],
   "source": [
    "import numpy as np\n",
    "\n",
    "from auxiliary import get_panel_estimates\n",
    "from auxiliary import get_sample_panel_demonstration\n",
    "\n",
    "np.random.seed(123)"
   ]
  },
  {
   "cell_type": "markdown",
   "metadata": {
    "pycharm": {},
    "slideshow": {
     "slide_type": "slide"
    }
   },
   "source": [
    "**Overview**\n",
    "\n",
    "* Interrupted time series models\n",
    "\n",
    "* Regression discontinuity design\n",
    "\n",
    "* Panel data\n",
    "    \n",
    "    * Traditional adjustment strategies\n",
    "    \n",
    "    * Model-based approaches"
   ]
  },
  {
   "cell_type": "markdown",
   "metadata": {},
   "source": [
    "### Interrupted time series models (ITS)"
   ]
  },
  {
   "cell_type": "markdown",
   "metadata": {},
   "source": [
    "\\begin{align*}\n",
    "Y_t = f(t) + D_t b + e_t\n",
    "\\end{align*}\n",
    "\n",
    "1. before the treatment is introduced (for $t \\le t^*$), $D_t = 0$ and $Y_t = Y^0_t$\n",
    "\n",
    "2. after the treatment is in place (from $t^*$ through $T$), $D_t = 1$ and $Y_t = Y^1_t$\n",
    "\n",
    "The causal effect of the treatment is then $\\delta_t = Y_t^1 - Y^0_t$ for time periods $t^*$ through $T$. This is equal to $\\delta_t = Y_t - Y^0_t$. The crucial assumption is that the obseved values of $y_t$ before $t^*$ can be used to speciy $f(t)$ for all time periods, including those after treatment."
   ]
  },
  {
   "cell_type": "markdown",
   "metadata": {},
   "source": [
    "**Operation Ceasefire** involved meetings with gang-involved youth who were engaged in gang conflict. Gang members were offered educational, employment, and other social services if they committed to refraining from gang-related deviance.\n",
    "\n",
    "<img src=\"material/fig-11-2.png\" width=\"500\" />"
   ]
  },
  {
   "cell_type": "markdown",
   "metadata": {},
   "source": [
    "**Strategies to strengthen ITS analysis**\n",
    "\n",
    "* Assess the effect of the cause on multiple outcomes that should be be affected by the cause.\n",
    "\n",
    "* Assess the effect of the cause on outcomes that should not be affected by the cause.\n",
    "\n",
    "* Assess the effect of the cause withing subgroups across which the causal effect should vary in \n",
    "predictable ways.\n",
    "\n",
    "* Adjust for trends in other variables that may affect or be related to the underlying time series of interest.\n",
    "\n",
    "* Assess the impact of the termination of th cause in addition to its initiation."
   ]
  },
  {
   "cell_type": "markdown",
   "metadata": {},
   "source": [
    "### Panel data"
   ]
  },
  {
   "cell_type": "markdown",
   "metadata": {},
   "source": [
    "We now need to add a time dimension to our effect analysis, i.e. $Y^d_t$ for $d = 0, 1$."
   ]
  },
  {
   "cell_type": "markdown",
   "metadata": {},
   "source": [
    "**Seminal paper**\n",
    "\n",
    "* Card and Krueger (1995, 2000)\n",
    "\n",
    "We briefly discuss the exposition from Angrist & Pischke (2008)."
   ]
  },
  {
   "cell_type": "markdown",
   "metadata": {},
   "source": [
    "<img src=\"material/fig-card-krueger-1994-1.png\" width=\"500\" />\n",
    "\n",
    "\n",
    "We are interested in\n",
    "\\begin{align*}\n",
    "E[{Y_1}^1 - {Y_1}^0 | D = 1] = E[{Y_1}^1 | D = 1] - \\underbrace{E[{Y_1}^0 | D = 1]}_{\\text{counterfactual}}\n",
    "\\end{align*}\n",
    "\n",
    "assuming common trend\n",
    "\\begin{align*}\\begin{array}{ll}\n",
    "E[{Y_1}^0 - {Y_0}^0 | D = 1] &= E[{Y_1}^0 - {Y_0}^0 | D = 0] \\\\\n",
    "E[{Y_1}^0 | D = 1] &= E[{Y_1}^0 - {Y_0}^0 | D = 0] + E[{Y_0}^0 | D = 1] \\\\[20pt]\n",
    "E[{Y_1}^1 - {Y_1}^0 | D = 1] &= E[{Y_1}^1 | D = 1] -  E[{Y_1}^0 | D = 0] + E[{Y_0}^0 | D = 0] - E[{Y_0}^0 | D = 1]\n",
    "\\end{array}\\end{align*}\n",
    "\n",
    "moving to observed outcomes where T indicates period in conditioning set.\n",
    "\n",
    "\\begin{align*}\n",
    "E[{Y_1}^1 - {Y_1}^0 | D = 1] & = E[Y | D = 1, T = 1] - E[Y | D = 1, T = 0]\\\\\n",
    "& - (E[Y | D = 0, T = 1] - E[Y | D = 0, T = 0])()\n",
    "\\end{align*}\n",
    "\n",
    "We can now map these observed objects to Table 5.2.\n",
    "\n",
    "\\begin{align*}\n",
    "E[Y | D = 1, T = 1] & = 21.03 \\\\\n",
    "E[Y | D = 1, T = 0] & = 20.44 \\\\\n",
    "E[Y | D = 0, T = 1] & = 21.17 \\\\\n",
    "E[Y | D = 0, T = 0] & = 23.33 \\\\\n",
    "\\end{align*}\n"
   ]
  },
  {
   "cell_type": "markdown",
   "metadata": {},
   "source": [
    "**Demonstration** \n",
    "\n",
    "We consider how alterantive estimators perform assuming a world where:\n",
    "\n",
    "* no catholic elementary schools or middle schools exist\n",
    "* all students consider entering either public or Cathlic high schools after end of eight grade\n",
    "* pretretment achievement test score is available for the eights grade\n",
    "\n",
    "\n",
    "\\begin{align*}\n",
    "\\text{difference-in-difference} &\\qquad Y_{i10} - Y_{i8} = a + D_i^* c + e_i  \\\\\n",
    "\\end{align*}\n",
    "\n",
    "<img src=\"material/fig-11-5.png\" width=\"500\" />"
   ]
  },
  {
   "cell_type": "markdown",
   "metadata": {},
   "source": [
    "**Control outcomes**\n",
    "\n",
    "\\begin{align*}\n",
    "Y^0_{i8}  & =  98 + O_i + U_i + X_i + E_i + \\nu^0_{i8} \\\\ \n",
    "Y^0_{i9}  & =  99 + O_i + U_i + X_i + E_i + \\nu^0_{i9} \\\\ \n",
    "Y^0_{i10} & = 100 + O_i + U_i + X_i + E_i + \\nu^0_{i10} \\\\  \n",
    "\\end{align*}\n",
    "\n",
    "There is a linear time trend for $Y^0_{it}$ but we will also consider a diverging trend scenario.\n",
    "\n",
    "**Treated outcomes**\n",
    "\n",
    "\\begin{align*}\n",
    "Y^1_{i9}  & =  Y^0_{i9} + \\delta_i^\\prime + \\delta_i^{\\prime\\prime}\\\\ \n",
    "Y^1_{i10} & = Y^0_{i10} + (1 + \\delta_i^\\prime) + \\delta_i^{\\prime\\prime}\\\\ \n",
    "\\end{align*}\n",
    "\n",
    "The treatment effect increases in time.\n",
    "\n",
    "**Treatment selection**\n",
    "\n",
    "\\begin{align*}\n",
    "\\text{baseline}\\qquad  & Pr[D^*_i = 1 \\mid O_i, U_i] = \\frac{exp(- 3.8 + O_i + U_i)}{1 + exp(- 3.8 + O_i + U_i)} \\\\\n",
    "\\text{self-selection on gains}\\qquad  & Pr[D^*_i = 1 \\mid O_i, U_i] = \\frac{exp(- 7.3 + O_i + U_i +5 \\delta^{\\prime\\prime})}{1 + exp(- 7.3 + O_i + U_i + 5 \\delta^{\\prime\\prime})} \\\\\n",
    "\\text{self-selection on pretest}\\qquad  & Pr[D^*_i = 1 \\mid O_i, U_i] = \\frac{exp(- 7.3 + O_i + U_i + k(Y_{i8} - E[Y_{i8}]))}{1 + exp(- 7.3 + O_i + U_i + k(Y_{i8} - E[Y_{i8}]))} \n",
    "\\end{align*}\n"
   ]
  },
  {
   "cell_type": "markdown",
   "metadata": {},
   "source": [
    "Why is the average control outcome higher among the (eventually) treated?"
   ]
  },
  {
   "cell_type": "code",
   "execution_count": 8,
   "metadata": {},
   "outputs": [
    {
     "data": {
      "text/plain": [
       "D_ever  Grade\n",
       "0       8              NaN\n",
       "        9        97.858309\n",
       "        10       98.398170\n",
       "Name: Y, dtype: float64"
      ]
     },
     "execution_count": 8,
     "metadata": {},
     "output_type": "execute_result"
    }
   ],
   "source": [
    "num_agents, selection, trajectory = 10, \"baseline\", \"parallel\"\n",
    "df = get_sample_panel_demonstration(num_agents, selection, trajectory)\n",
    "df.groupby([\"D_ever\", \"Grade\"])[\"Y\"].mean()"
   ]
  },
  {
   "cell_type": "markdown",
   "metadata": {},
   "source": [
    "How do our standard estimators perform in these setting?"
   ]
  },
  {
   "cell_type": "code",
   "execution_count": 10,
   "metadata": {},
   "outputs": [
    {
     "name": "stdout",
     "output_type": "stream",
     "text": [
      "\n",
      " Selection: baseline, Trajectory: parallel\n",
      "naive     : 15.278\n",
      "diff      : 9.416\n",
      "\n",
      " Selection: baseline, Trajectory: divergent\n",
      "naive     : 15.363\n",
      "diff      : 9.774\n",
      "\n",
      " Selection: self-selection on gains, Trajectory: parallel\n",
      "naive     : 14.151\n",
      "diff      : 11.358\n",
      "\n",
      " Selection: self-selection on gains, Trajectory: divergent\n",
      "naive     : 15.986\n",
      "diff      : 12.460\n",
      "\n",
      " Selection: self-selection on pretest, Trajectory: parallel\n",
      "naive     : 14.082\n",
      "diff      : 8.971\n",
      "\n",
      " Selection: self-selection on pretest, Trajectory: divergent\n",
      "naive     : 16.011\n",
      "diff      : 10.543\n"
     ]
    }
   ],
   "source": [
    "for selection in [\n",
    "    \"baseline\",\n",
    "    \"self-selection on gains\",\n",
    "    \"self-selection on pretest\",\n",
    "]:\n",
    "    for trajectory in [\"parallel\", \"divergent\"]:\n",
    "        print(\"\\n Selection: {:}, Trajectory: {:}\".format(selection, trajectory))\n",
    "        num_agents, selection, trajectory = 1000, selection, trajectory\n",
    "        df = get_sample_panel_demonstration(num_agents, selection, trajectory)\n",
    "        for estimator in [\"naive\", \"diff\"]:\n",
    "            rslt = get_panel_estimates(estimator, df)\n",
    "            print(\"{:10}: {:5.3f}\".format(estimator, rslt.params[\"D\"]))"
   ]
  },
  {
   "cell_type": "markdown",
   "metadata": {},
   "source": [
    "<img src=\"material/fig-table-11-1.png\" width=\"500\" />"
   ]
  },
  {
   "cell_type": "markdown",
   "metadata": {},
   "source": [
    "### Resources"
   ]
  },
  {
   "cell_type": "markdown",
   "metadata": {},
   "source": [
    "* **Angrist, J. D. and Pischke, J.-S. (2008)**. [Mostly harmless econometrics: An empiricist’s companion](https://press.princeton.edu/books/paperback/9780691120355/mostly-harmless-econometrics). Princeton, NJ: *Princeton University Press*.\n",
    "\n",
    "\n",
    "* **Bertrand, M., Duflo E., and Mullainathan, S. (2004)**. [How much should we trust differences-in-differences estimates?](https://academic.oup.com/qje/article-abstract/119/1/249/1876068?redirectedFrom=fulltext). *The Quarterly Journal of Economics*, 119(1), 249-275.\n",
    "\n",
    "\n",
    "* **Braga, A. A., Kennedy, D. M., Waring, E. J., and Piehl, A. M. (2001)**. [Problem-oriented policing, deterrence, and youth violence: An evaluation of boston’s operation ceasefire](https://journals.sagepub.com/doi/10.1177/0022427801038003001). *Journal of research in crime and delinquency*, 38(3), 195–225. \n",
    "\n",
    "\n",
    "* **Card, D., and Krueger, A. B. (1995)**. [Time-series minimum-wage studies: A meta-analysis](https://www.jstor.org/stable/2117925?seq=1). *The American Economic Review*, 85(2), 238–243.  \n",
    "\n",
    "\n",
    "* **Card, D. and Krueger, A. B. (2000)**. [Minimum wages and employment: A case study of the fast-food industry in new jersey and pennsylvania](https://www.aeaweb.org/articles?id=10.1257/aer.90.5.1397). *American Economic Review*, 90(5), 1397–1420. \n",
    "\n",
    "\n",
    "* **Frölich, M. and Sperlich, S. (2019)**. [Impact evaluation](https://www.cambridge.org/core/books/impact-evaluation/F07A859F06FF131D78DA7FC81939A6DC). Cambridge, England: *Cambridge University Press*.\n",
    "\n",
    "\n",
    "* **Lechner, M. (2010)**. [The estimation of causal effects by difference-in-difference methods](https://michael-lechner.eu/ml_pdf/journals/2011_Lechner_DiD_2011_ECO%200403%20Lechner_darf%20aufs%20Netz.pdf), 4(3), 165–224."
   ]
  }
 ],
 "metadata": {
  "kernelspec": {
   "display_name": "Python 3",
   "language": "python",
   "name": "python3"
  },
  "language_info": {
   "codemirror_mode": {
    "name": "ipython",
    "version": 3
   },
   "file_extension": ".py",
   "mimetype": "text/x-python",
   "name": "python",
   "nbconvert_exporter": "python",
   "pygments_lexer": "ipython3",
   "version": "3.8.8"
  },
  "pycharm": {
   "stem_cell": {
    "cell_type": "raw",
    "metadata": {
     "collapsed": false
    },
    "source": []
   }
  }
 },
 "nbformat": 4,
 "nbformat_minor": 4
}
