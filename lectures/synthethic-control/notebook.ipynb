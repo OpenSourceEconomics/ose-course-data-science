{
 "cells": [
  {
   "cell_type": "markdown",
   "id": "a8cefd22",
   "metadata": {},
   "source": [
    "# Synthetic Control\n",
    "---------\n",
    "\n",
    "*Working notebook for synthetic control method lecture, summer semester 2022.*"
   ]
  },
  {
   "cell_type": "markdown",
   "id": "f04af1fc",
   "metadata": {},
   "source": [
    "# References \n",
    "\n",
    "* **Abadie, A. (2021)**. [Using Synthetic Controls: Feasibility, Data Requirements, and Methodological Aspects](https://www.aeaweb.org/articles?id=10.1257/jel.20191450), *Journal of Economic Literature*, 59(2)."
   ]
  }
 ],
 "metadata": {
  "kernelspec": {
   "display_name": "Python 3",
   "language": "python",
   "name": "python3"
  },
  "language_info": {
   "codemirror_mode": {
    "name": "ipython",
    "version": 3
   },
   "file_extension": ".py",
   "mimetype": "text/x-python",
   "name": "python",
   "nbconvert_exporter": "python",
   "pygments_lexer": "ipython3",
   "version": "3.8.8"
  }
 },
 "nbformat": 4,
 "nbformat_minor": 5
}
