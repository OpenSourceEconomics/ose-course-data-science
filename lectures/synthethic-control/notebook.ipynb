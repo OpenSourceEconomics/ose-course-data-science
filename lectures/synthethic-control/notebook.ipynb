{
 "cells": [
  {
   "cell_type": "markdown",
   "id": "a8cefd22",
   "metadata": {},
   "source": [
    "# Synthetic Control"
   ]
  },
  {
   "cell_type": "markdown",
   "id": "9f6394d8-cf2d-4055-af79-4e70944e2ff3",
   "metadata": {},
   "source": [
    "> The model extends the traditional linear panel data (difference-in-differences) framework, allowing that **the effects of unobserved variables on the outcome vary with time**. (Abadie & Diamond & Hainmueller (2010))\n",
    "\n",
    "-> This is the key differnce to the difference-in-difference design. However, it is important to clarify that this statement refers to **!time-constant!** unobserved confounders. Now, the intuition that reproducing well a long time-series of pre-treatment outcomes of the eventually treated unit with a weighted average of the donor pool also picks up the effect of **unobserved confounders**. Then, because these are time-constant, their time-varying effect after treatment is also incporporated.\n",
    "\n",
    "Consider the following factor model:\n",
    "\n",
    "\\begin{align*}\n",
    "Y^N_{it} = \\delta_t + \\mathbb{\\theta}_t Z_{i} + \\lambda_t \\mu_i + \\epsilon_{it}\n",
    "\\end{align*}\n",
    "\n",
    "If $\\lambda_t = \\lambda$, i.e. $\\lambda_t$ is constant over time, then we are back in the standard setting."
   ]
  },
  {
   "cell_type": "markdown",
   "id": "f04af1fc",
   "metadata": {},
   "source": [
    "# References \n",
    "\n",
    "* **Abadie, A. (2021)**. [Using synthetic controls: feasibility, data requirements, and methodological aspects](https://www.aeaweb.org/articles?id=10.1257/jel.20191450), *Journal of Economic Literature*, 59(2), 391-425.\n",
    "\n",
    "\n",
    "* **Abadie, A., Diamond, A., & Hainmueller, J. (2010)**. [Synthetic control methods for comparative casecStudies: cstimating the effect of california’s tobacco control program](https://economics.mit.edu/files/11859), *Journal of the American Statistical Association*, 105(490), 493-505.\n",
    "\n",
    "\n",
    "* **Firpo, S., &  Possebom, V. (2018)**. [Synthetic control method: inference, sensitivity analysis and confidence sets](https://www.degruyter.com/document/doi/10.1515/jci-2016-0026/html), Journal of Causal Inference, 6(2), 2-26."
   ]
  }
 ],
 "metadata": {
  "kernelspec": {
   "display_name": "Python 3",
   "language": "python",
   "name": "python3"
  },
  "language_info": {
   "codemirror_mode": {
    "name": "ipython",
    "version": 3
   },
   "file_extension": ".py",
   "mimetype": "text/x-python",
   "name": "python",
   "nbconvert_exporter": "python",
   "pygments_lexer": "ipython3",
   "version": "3.8.8"
  }
 },
 "nbformat": 4,
 "nbformat_minor": 5
}
