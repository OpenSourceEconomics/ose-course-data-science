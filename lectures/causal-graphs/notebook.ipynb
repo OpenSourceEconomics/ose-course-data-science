{
 "cells": [
  {
   "cell_type": "code",
   "execution_count": 1,
   "metadata": {
    "nbsphinx": "hidden",
    "slideshow": {
     "slide_type": "skip"
    }
   },
   "outputs": [],
   "source": [
    "from itertools import product\n",
    "\n",
    "import statsmodels.formula.api as smf\n",
    "import pandas as pd\n",
    "import numpy as np\n",
    "\n",
    "from auxiliary import plot_interventional_distribution\n",
    "from auxiliary import plot_conditional_distribution"
   ]
  },
  {
   "cell_type": "markdown",
   "metadata": {
    "slideshow": {
     "slide_type": "slide"
    }
   },
   "source": [
    "# Causal graphs"
   ]
  },
  {
   "cell_type": "markdown",
   "metadata": {},
   "source": [
    "### Introduction"
   ]
  },
  {
   "cell_type": "markdown",
   "metadata": {
    "slideshow": {
     "slide_type": "slide"
    }
   },
   "source": [
    "Graph notation less general than potential outcome framework, but \n",
    "\n",
    "* thinking about causal systems\n",
    "* uncover identification strategies\n",
    "\n",
    "> It is useful to separate the inferential problem into statistical and identification components. Studies of identification seek to characterize the conclusions that could be drawn if one could use the sampling process to obtain an unlimited number of observations. (Manski, 1995)"
   ]
  },
  {
   "cell_type": "markdown",
   "metadata": {
    "slideshow": {
     "slide_type": "slide"
    }
   },
   "source": [
    "The two most crucial ingredients for an identification analysis are:\n",
    "\n",
    "* The set of assumptions about causal relationships that the analysis is willing to assert based on theory and past research, including assumptions about relationships between variables that have not been observed but that are related both to the cause and outcome of interest.\n",
    "\n",
    "* The pattern of information one can assume would be contained in the joint distribution of the variables (**associations**) in the observed dataset if all members of the population had been included in the sample that generated the dataset.\n",
    "\n",
    "$\\rightarrow$ causal graphs offer an effective and efficient representation for both"
   ]
  },
  {
   "cell_type": "markdown",
   "metadata": {
    "slideshow": {
     "slide_type": "slide"
    }
   },
   "source": [
    "### Basic elements of causal graphs"
   ]
  },
  {
   "cell_type": "markdown",
   "metadata": {
    "slideshow": {
     "slide_type": "slide"
    }
   },
   "source": [
    "* nodes\n",
    "* edges\n",
    "* directed paths\n",
    "    * parent and child\n",
    "    * descendant"
   ]
  },
  {
   "cell_type": "markdown",
   "metadata": {
    "slideshow": {
     "slide_type": "-"
    }
   },
   "source": [
    "<img src=\"material/fig-graph-with-cycle.png\" width=200 />"
   ]
  },
  {
   "cell_type": "markdown",
   "metadata": {
    "slideshow": {
     "slide_type": "slide"
    }
   },
   "source": [
    "Two representations of the joint dependence of $A$ and $B$ on an unobserved common cause.\n",
    "\n",
    "<img src=\"material/fig-graph-shorthand-unobserved-common-cause.png\" width=500 />"
   ]
  },
  {
   "cell_type": "markdown",
   "metadata": {
    "slideshow": {
     "slide_type": "slide"
    }
   },
   "source": [
    "Let's look at some basic patterns that will turn out to appear frequently.\n",
    "\n",
    "* chain of mediation\n",
    "* fork of mutual causation\n",
    "* inverted fork of mutual dependence\n",
    "\n",
    "<img src=\"material/fig-basic-causal-relationships.png\" width=200 />\n",
    "\n",
    "What about the unconditional and conditional association of $A$ and $B$ in each of these cases?\n",
    "\n",
    "* While there is unconditional dependence between them in the first two cases, there is not in the third.\n",
    "\n",
    "The **collider variable** $C$ in the third setting does not generate an unconditional association between $A$ and $B$. However, as we will revisit in more detail later, it can create a conditional association that needs to be handled with care."
   ]
  },
  {
   "cell_type": "markdown",
   "metadata": {
    "slideshow": {
     "slide_type": "slide"
    }
   },
   "source": [
    "#### Conditioning and confounding"
   ]
  },
  {
   "cell_type": "markdown",
   "metadata": {
    "slideshow": {
     "slide_type": "slide"
    }
   },
   "source": [
    "<img src=\"material/fig-confounding-variable.png\" width=500 />\n",
    "\n",
    "\n",
    "The causal effects $C \\rightarrow D$ and $C \\rightarrow Y$ render the total association between $D$ and $Y$ unequal to the causal effect $D \\rightarrow Y$.\n",
    "\n",
    "* $C$ is a **confounding variable** that affects both the dependent and independent variable.\n",
    "\n",
    "* Conditioning is a modelig strategy that allows to determine causal effects in the presence of observed confounders.\n",
    "\n",
    "$\\rightarrow$ What happens if $C$ is unobserved?"
   ]
  },
  {
   "cell_type": "markdown",
   "metadata": {
    "slideshow": {
     "slide_type": "slide"
    }
   },
   "source": [
    "How about an example from educational choice where we have observed and unobserved confounders?\n",
    "\n",
    "<img src=\"material/fig-confounders-education.png\" width=500 />\n",
    "\n",
    "What identification strategies come to mind?"
   ]
  },
  {
   "cell_type": "markdown",
   "metadata": {
    "slideshow": {
     "slide_type": "slide"
    }
   },
   "source": [
    "### Link to structural equations"
   ]
  },
  {
   "cell_type": "markdown",
   "metadata": {
    "slideshow": {
     "slide_type": "slide"
    }
   },
   "source": [
    "Let's look at another example and assume we are interested in the effect of parental background (P), charter schools (D), and neighborhoods (N) on test scores (Y).\n",
    "\n",
    "We could set up the following **linear** regression equations:\n",
    "\n",
    "\\begin{align*}\n",
    "D & = \\alpha_D + b_P P + \\epsilon_2 \\\\\n",
    "Y & = \\alpha_Y + b_D D + b_P P + + b_N N + \\epsilon_4\n",
    "\\end{align*}"
   ]
  },
  {
   "cell_type": "markdown",
   "metadata": {
    "slideshow": {
     "slide_type": "slide"
    }
   },
   "source": [
    "<img src=\"material/fig-equivalent-representations-standard.png\" width=500 />"
   ]
  },
  {
   "cell_type": "markdown",
   "metadata": {
    "slideshow": {
     "slide_type": "slide"
    }
   },
   "source": [
    "<img src=\"material/fig-equivalent-representations-magnified.png\" width=500 />"
   ]
  },
  {
   "cell_type": "markdown",
   "metadata": {
    "slideshow": {
     "slide_type": "slide"
    }
   },
   "source": [
    "We can set up the same *nonparametric* structural equations for both representations:\n",
    "\n",
    "\\begin{align*}\n",
    "P & = f_P(\\epsilon_1)    \\\\\n",
    "N & = f_N(\\epsilon_3) \\\\\n",
    "D & = f_D(P, \\epsilon_2) \\\\\n",
    "Y & = f_Y(P, D, N, \\epsilon_4)\n",
    "\\end{align*}"
   ]
  },
  {
   "cell_type": "markdown",
   "metadata": {},
   "source": [
    "How to simulate a sample from a set of structural equations?"
   ]
  },
  {
   "cell_type": "code",
   "execution_count": 2,
   "metadata": {
    "slideshow": {
     "slide_type": "slide"
    }
   },
   "outputs": [
    {
     "data": {
      "text/html": [
       "<div>\n",
       "<style scoped>\n",
       "    .dataframe tbody tr th:only-of-type {\n",
       "        vertical-align: middle;\n",
       "    }\n",
       "\n",
       "    .dataframe tbody tr th {\n",
       "        vertical-align: top;\n",
       "    }\n",
       "\n",
       "    .dataframe thead th {\n",
       "        text-align: right;\n",
       "    }\n",
       "</style>\n",
       "<table border=\"1\" class=\"dataframe\">\n",
       "  <thead>\n",
       "    <tr style=\"text-align: right;\">\n",
       "      <th></th>\n",
       "      <th>Y</th>\n",
       "      <th>D</th>\n",
       "      <th>P</th>\n",
       "      <th>N</th>\n",
       "    </tr>\n",
       "  </thead>\n",
       "  <tbody>\n",
       "    <tr>\n",
       "      <th>0</th>\n",
       "      <td>1.248681</td>\n",
       "      <td>3.289100</td>\n",
       "      <td>0.928133</td>\n",
       "      <td>0.297718</td>\n",
       "    </tr>\n",
       "    <tr>\n",
       "      <th>1</th>\n",
       "      <td>1.791849</td>\n",
       "      <td>1.665443</td>\n",
       "      <td>0.221006</td>\n",
       "      <td>0.472631</td>\n",
       "    </tr>\n",
       "    <tr>\n",
       "      <th>2</th>\n",
       "      <td>1.181537</td>\n",
       "      <td>0.400000</td>\n",
       "      <td>0.366633</td>\n",
       "      <td>0.706849</td>\n",
       "    </tr>\n",
       "    <tr>\n",
       "      <th>3</th>\n",
       "      <td>1.875180</td>\n",
       "      <td>1.226666</td>\n",
       "      <td>0.189232</td>\n",
       "      <td>0.916127</td>\n",
       "    </tr>\n",
       "    <tr>\n",
       "      <th>4</th>\n",
       "      <td>3.442131</td>\n",
       "      <td>1.271353</td>\n",
       "      <td>0.025105</td>\n",
       "      <td>0.976486</td>\n",
       "    </tr>\n",
       "  </tbody>\n",
       "</table>\n",
       "</div>"
      ],
      "text/plain": [
       "          Y         D         P         N\n",
       "0  1.248681  3.289100  0.928133  0.297718\n",
       "1  1.791849  1.665443  0.221006  0.472631\n",
       "2  1.181537  0.400000  0.366633  0.706849\n",
       "3  1.875180  1.226666  0.189232  0.916127\n",
       "4  3.442131  1.271353  0.025105  0.976486"
      ]
     },
     "execution_count": 2,
     "metadata": {},
     "output_type": "execute_result"
    }
   ],
   "source": [
    "indices = list()\n",
    "[indices.append(label) for label in product([(\"alpha\")], (\"D\", \"Y\"))]\n",
    "[indices.append(label) for label in product([(\"beta\")], (\"P\", \"N\", \"D\"))]\n",
    "index = pd.MultiIndex.from_tuples(indices, names=[\"group\", \"element\"])\n",
    "\n",
    "values = [1, 1, 0.8, 0.7, -0.3]\n",
    "params = pd.Series(values, index=index)\n",
    "\n",
    "# distributional assumptions\n",
    "get_unobservable = np.random.normal\n",
    "get_observable = np.random.uniform\n",
    "\n",
    "\n",
    "num_agents = 10000\n",
    "\n",
    "df = pd.DataFrame(columns=[\"Y\", \"D\", \"P\", \"N\"])\n",
    "\n",
    "for i in range(num_agents):\n",
    "    P, N = get_observable(size=2)\n",
    "\n",
    "    D = params.loc[\"alpha\", \"D\"] + params.loc[\"beta\", \"P\"] * P + get_unobservable()\n",
    "\n",
    "    Y = (\n",
    "        params.loc[\"alpha\", \"Y\"]\n",
    "        + params.loc[\"beta\", \"D\"] * D\n",
    "        + params.loc[\"beta\", \"P\"] * P\n",
    "        + params.loc[\"beta\", \"N\"] * N\n",
    "        + get_unobservable()\n",
    "    )\n",
    "\n",
    "    df.loc[i] = [Y, D, P, N]\n",
    "\n",
    "\n",
    "df.head()"
   ]
  },
  {
   "cell_type": "markdown",
   "metadata": {
    "slideshow": {
     "slide_type": "slide"
    }
   },
   "source": [
    "Now lets see if we can uncover the structural parameters by a simple ordinary-least-squares regression and thus go full circle from a parametric structural equation model to a causal graph."
   ]
  },
  {
   "cell_type": "code",
   "execution_count": 3,
   "metadata": {},
   "outputs": [
    {
     "data": {
      "text/plain": [
       "group  element\n",
       "alpha  D          1.0\n",
       "       Y          1.0\n",
       "beta   P          0.8\n",
       "       N          0.7\n",
       "       D         -0.3\n",
       "dtype: float64"
      ]
     },
     "execution_count": 3,
     "metadata": {},
     "output_type": "execute_result"
    }
   ],
   "source": [
    "params"
   ]
  },
  {
   "cell_type": "code",
   "execution_count": 4,
   "metadata": {
    "slideshow": {
     "slide_type": "slide"
    }
   },
   "outputs": [
    {
     "data": {
      "text/html": [
       "<table class=\"simpletable\">\n",
       "<caption>OLS Regression Results</caption>\n",
       "<tr>\n",
       "  <th>Dep. Variable:</th>            <td>Y</td>        <th>  R-squared:         </th> <td>   0.143</td> \n",
       "</tr>\n",
       "<tr>\n",
       "  <th>Model:</th>                   <td>OLS</td>       <th>  Adj. R-squared:    </th> <td>   0.143</td> \n",
       "</tr>\n",
       "<tr>\n",
       "  <th>Method:</th>             <td>Least Squares</td>  <th>  F-statistic:       </th> <td>   556.2</td> \n",
       "</tr>\n",
       "<tr>\n",
       "  <th>Date:</th>             <td>Tue, 04 May 2021</td> <th>  Prob (F-statistic):</th>  <td>  0.00</td>  \n",
       "</tr>\n",
       "<tr>\n",
       "  <th>Time:</th>                 <td>21:05:08</td>     <th>  Log-Likelihood:    </th> <td> -14101.</td> \n",
       "</tr>\n",
       "<tr>\n",
       "  <th>No. Observations:</th>      <td> 10000</td>      <th>  AIC:               </th> <td>2.821e+04</td>\n",
       "</tr>\n",
       "<tr>\n",
       "  <th>Df Residuals:</th>          <td>  9996</td>      <th>  BIC:               </th> <td>2.824e+04</td>\n",
       "</tr>\n",
       "<tr>\n",
       "  <th>Df Model:</th>              <td>     3</td>      <th>                     </th>     <td> </td>    \n",
       "</tr>\n",
       "<tr>\n",
       "  <th>Covariance Type:</th>      <td>nonrobust</td>    <th>                     </th>     <td> </td>    \n",
       "</tr>\n",
       "</table>\n",
       "<table class=\"simpletable\">\n",
       "<tr>\n",
       "      <td></td>         <th>coef</th>     <th>std err</th>      <th>t</th>      <th>P>|t|</th>  <th>[0.025</th>    <th>0.975]</th>  \n",
       "</tr>\n",
       "<tr>\n",
       "  <th>Intercept</th> <td>    0.9686</td> <td>    0.028</td> <td>   34.853</td> <td> 0.000</td> <td>    0.914</td> <td>    1.023</td>\n",
       "</tr>\n",
       "<tr>\n",
       "  <th>D</th>         <td>   -0.2997</td> <td>    0.010</td> <td>  -30.384</td> <td> 0.000</td> <td>   -0.319</td> <td>   -0.280</td>\n",
       "</tr>\n",
       "<tr>\n",
       "  <th>P</th>         <td>    0.8276</td> <td>    0.035</td> <td>   23.439</td> <td> 0.000</td> <td>    0.758</td> <td>    0.897</td>\n",
       "</tr>\n",
       "<tr>\n",
       "  <th>N</th>         <td>    0.7401</td> <td>    0.034</td> <td>   21.574</td> <td> 0.000</td> <td>    0.673</td> <td>    0.807</td>\n",
       "</tr>\n",
       "</table>\n",
       "<table class=\"simpletable\">\n",
       "<tr>\n",
       "  <th>Omnibus:</th>       <td> 2.466</td> <th>  Durbin-Watson:     </th> <td>   1.998</td>\n",
       "</tr>\n",
       "<tr>\n",
       "  <th>Prob(Omnibus):</th> <td> 0.291</td> <th>  Jarque-Bera (JB):  </th> <td>   2.400</td>\n",
       "</tr>\n",
       "<tr>\n",
       "  <th>Skew:</th>          <td>-0.010</td> <th>  Prob(JB):          </th> <td>   0.301</td>\n",
       "</tr>\n",
       "<tr>\n",
       "  <th>Kurtosis:</th>      <td> 2.927</td> <th>  Cond. No.          </th> <td>    8.68</td>\n",
       "</tr>\n",
       "</table><br/><br/>Notes:<br/>[1] Standard Errors assume that the covariance matrix of the errors is correctly specified."
      ],
      "text/plain": [
       "<class 'statsmodels.iolib.summary.Summary'>\n",
       "\"\"\"\n",
       "                            OLS Regression Results                            \n",
       "==============================================================================\n",
       "Dep. Variable:                      Y   R-squared:                       0.143\n",
       "Model:                            OLS   Adj. R-squared:                  0.143\n",
       "Method:                 Least Squares   F-statistic:                     556.2\n",
       "Date:                Tue, 04 May 2021   Prob (F-statistic):               0.00\n",
       "Time:                        21:05:08   Log-Likelihood:                -14101.\n",
       "No. Observations:               10000   AIC:                         2.821e+04\n",
       "Df Residuals:                    9996   BIC:                         2.824e+04\n",
       "Df Model:                           3                                         \n",
       "Covariance Type:            nonrobust                                         \n",
       "==============================================================================\n",
       "                 coef    std err          t      P>|t|      [0.025      0.975]\n",
       "------------------------------------------------------------------------------\n",
       "Intercept      0.9686      0.028     34.853      0.000       0.914       1.023\n",
       "D             -0.2997      0.010    -30.384      0.000      -0.319      -0.280\n",
       "P              0.8276      0.035     23.439      0.000       0.758       0.897\n",
       "N              0.7401      0.034     21.574      0.000       0.673       0.807\n",
       "==============================================================================\n",
       "Omnibus:                        2.466   Durbin-Watson:                   1.998\n",
       "Prob(Omnibus):                  0.291   Jarque-Bera (JB):                2.400\n",
       "Skew:                          -0.010   Prob(JB):                        0.301\n",
       "Kurtosis:                       2.927   Cond. No.                         8.68\n",
       "==============================================================================\n",
       "\n",
       "Notes:\n",
       "[1] Standard Errors assume that the covariance matrix of the errors is correctly specified.\n",
       "\"\"\""
      ]
     },
     "execution_count": 4,
     "metadata": {},
     "output_type": "execute_result"
    }
   ],
   "source": [
    "smf.ols(formula=\"Y ~ D + P + N\", data=df).fit().summary()"
   ]
  },
  {
   "cell_type": "markdown",
   "metadata": {
    "slideshow": {
     "slide_type": "slide"
    }
   },
   "source": [
    "### Link to potential outcome model"
   ]
  },
  {
   "cell_type": "markdown",
   "metadata": {
    "slideshow": {
     "slide_type": "slide"
    }
   },
   "source": [
    "Advantages of the potential outcome model\n",
    "\n",
    "* definition of causal effects\n",
    "* individual effects as first principle\n",
    "* decomposition of sources of inconsistency\n",
    "* ...\n",
    "\n",
    "However, it is hard to manage the notion for larger causal systems with many confounding variables and treatments."
   ]
  },
  {
   "cell_type": "markdown",
   "metadata": {
    "slideshow": {
     "slide_type": "slide"
    }
   },
   "source": [
    "<img src=\"material/fig-observed-confounding-variable.png\" width=500 />\n",
    "\n",
    "Based on our previous discussion, unfortunately, $E[Y_1 - Y_0] \\neq E[Y\\mid D = 1] - E[Y\\mid D = 0]$. "
   ]
  },
  {
   "cell_type": "markdown",
   "metadata": {
    "slideshow": {
     "slide_type": "slide"
    }
   },
   "source": [
    "How can we define the treatment effects from the potential outcome model in here?\n",
    "\n",
    "> Interventions and counterfactuals are defined through a mathematical operator called $do(\\cdot)$, which simulates physical interventions by deleting certain functions from the model, replacing them with a constant. (Pearl, 2012)\n",
    "\n",
    "\\begin{align*}\n",
    "E[Y_1 - Y_0 ]\\quad\\text{corresponds to}\\quad E[Y \\mid do(D=1)] - E[Y \\mid do(D=0)]\n",
    "\\end{align*}\n",
    "\n",
    "The $do(\\cdot)$ operator is the exact analog to the superscripts given to potential outcomes in order to designate the underlying causal states that define them."
   ]
  },
  {
   "cell_type": "markdown",
   "metadata": {
    "slideshow": {
     "slide_type": "slide"
    }
   },
   "source": [
    "Graphical presentation of $do(\\cdot)$ operator\n",
    "\n",
    "<img src=\"material/fig-mutilated-graph.png\" width=500 />"
   ]
  },
  {
   "cell_type": "markdown",
   "metadata": {
    "slideshow": {
     "slide_type": "slide"
    }
   },
   "source": [
    "The $do(\\cdot)$ operator induces a key distinction between the **conditional distribution** of the endogenous variable and its **interventional distribution**.\n",
    "\n",
    "Let's simulate a sample from a parametrized version of the graph above."
   ]
  },
  {
   "cell_type": "code",
   "execution_count": 5,
   "metadata": {
    "slideshow": {
     "slide_type": "slide"
    }
   },
   "outputs": [
    {
     "data": {
      "text/html": [
       "<div>\n",
       "<style scoped>\n",
       "    .dataframe tbody tr th:only-of-type {\n",
       "        vertical-align: middle;\n",
       "    }\n",
       "\n",
       "    .dataframe tbody tr th {\n",
       "        vertical-align: top;\n",
       "    }\n",
       "\n",
       "    .dataframe thead th {\n",
       "        text-align: right;\n",
       "    }\n",
       "</style>\n",
       "<table border=\"1\" class=\"dataframe\">\n",
       "  <thead>\n",
       "    <tr style=\"text-align: right;\">\n",
       "      <th></th>\n",
       "      <th>Y</th>\n",
       "      <th>D</th>\n",
       "      <th>C</th>\n",
       "    </tr>\n",
       "  </thead>\n",
       "  <tbody>\n",
       "    <tr>\n",
       "      <th>0</th>\n",
       "      <td>1.696469</td>\n",
       "      <td>0.0</td>\n",
       "      <td>0.696469</td>\n",
       "    </tr>\n",
       "    <tr>\n",
       "      <th>1</th>\n",
       "      <td>1.226851</td>\n",
       "      <td>1.0</td>\n",
       "      <td>0.226851</td>\n",
       "    </tr>\n",
       "    <tr>\n",
       "      <th>2</th>\n",
       "      <td>1.719469</td>\n",
       "      <td>0.0</td>\n",
       "      <td>0.719469</td>\n",
       "    </tr>\n",
       "    <tr>\n",
       "      <th>3</th>\n",
       "      <td>1.980764</td>\n",
       "      <td>0.0</td>\n",
       "      <td>0.980764</td>\n",
       "    </tr>\n",
       "    <tr>\n",
       "      <th>4</th>\n",
       "      <td>1.480932</td>\n",
       "      <td>0.0</td>\n",
       "      <td>0.480932</td>\n",
       "    </tr>\n",
       "  </tbody>\n",
       "</table>\n",
       "</div>"
      ],
      "text/plain": [
       "          Y    D         C\n",
       "0  1.696469  0.0  0.696469\n",
       "1  1.226851  1.0  0.226851\n",
       "2  1.719469  0.0  0.719469\n",
       "3  1.980764  0.0  0.980764\n",
       "4  1.480932  0.0  0.480932"
      ]
     },
     "execution_count": 5,
     "metadata": {},
     "output_type": "execute_result"
    }
   ],
   "source": [
    "np.random.seed(123)\n",
    "\n",
    "num_agents = 1000\n",
    "df = pd.DataFrame(columns=[\"Y\", \"D\", \"C\"])\n",
    "\n",
    "\n",
    "def calculate_outcome(C, D):\n",
    "    \"\"\"We compute the observed outcome.\"\"\"\n",
    "    # If you would like to have it in potential\n",
    "    # outcome notation.\n",
    "    Y_1 = 1 + C\n",
    "    Y_0 = 0 + C\n",
    "    Y = D * Y_1 + (1 - D) * Y_0\n",
    "\n",
    "    # So what is the individual treatment effect?:\n",
    "\n",
    "    return Y\n",
    "\n",
    "\n",
    "for i in range(num_agents):\n",
    "    C = np.random.uniform()\n",
    "    D = np.random.choice([0, 1], p=[C, 1 - C])\n",
    "    Y = calculate_outcome(C, D)\n",
    "    df.loc[i] = [Y, D, C]\n",
    "\n",
    "df.head()"
   ]
  },
  {
   "cell_type": "markdown",
   "metadata": {
    "slideshow": {
     "slide_type": "slide"
    }
   },
   "source": [
    "We know how to compute and plot a **conditional distribution**."
   ]
  },
  {
   "cell_type": "code",
   "execution_count": 6,
   "metadata": {
    "slideshow": {
     "slide_type": "slide"
    }
   },
   "outputs": [
    {
     "data": {
      "image/png": "[encoded data removed]",
      "text/plain": [
       "<Figure size 432x288 with 2 Axes>"
      ]
     },
     "metadata": {
      "needs_background": "light"
     },
     "output_type": "display_data"
    }
   ],
   "source": [
    "plot_conditional_distribution(df)"
   ]
  },
  {
   "cell_type": "markdown",
   "metadata": {
    "slideshow": {
     "slide_type": "slide"
    }
   },
   "source": [
    "How can we compute the **interventional distribution**? What do we need to know to do that?"
   ]
  },
  {
   "cell_type": "code",
   "execution_count": 7,
   "metadata": {
    "slideshow": {
     "slide_type": "slide"
    }
   },
   "outputs": [
    {
     "data": {
      "image/png": "[encoded data removed]",
      "text/plain": [
       "<Figure size 432x288 with 2 Axes>"
      ]
     },
     "metadata": {
      "needs_background": "light"
     },
     "output_type": "display_data"
    }
   ],
   "source": [
    "Y_do_1, Y_do_0 = list(), list()\n",
    "for i, row in df.iterrows():\n",
    "    # Note that we calculate the outcome using the\n",
    "    # individual\"s actual C put simply set D to\n",
    "    # its value unter the intervetion.\n",
    "    C, D = row[\"C\"], 1\n",
    "    Y_do_1 += [calculate_outcome(C, D)]\n",
    "\n",
    "    C, D = row[\"C\"], 0\n",
    "    Y_do_0 += [calculate_outcome(C, D)]\n",
    "\n",
    "plot_interventional_distribution(Y_do_1, Y_do_0)"
   ]
  },
  {
   "cell_type": "markdown",
   "metadata": {},
   "source": [
    "### Resources"
   ]
  },
  {
   "cell_type": "markdown",
   "metadata": {},
   "source": [
    "* **Manski, C. F. (1995)**. [Identification problems in the social sciences](https://www.hup.harvard.edu/catalog.php?isbn=9780674442849). Cambridge, UK: *Harvard University Press*.  \n",
    "\n",
    "\n",
    "* **Pearl, J. (2012)**. [The do-calculus revisited](https://arxiv.org/ftp/arxiv/papers/1210/1210.4852.pdf).\n",
    "\n",
    "* **Peters, J., Janzig, D., and Schölkopf, B. (2018)**. [Elements of causal inference: Foundations and learning algorithms](https://mitpress.mit.edu/books/elements-causal-inference). Cambridge, MA: *The MIT Press*.\n",
    "\n",
    "\n",
    "* **Imbens, G. W. (2020)**. [Potential outcome and directed acyclic graph approaches to causality: Relevance for empirical practice in economics](https://www.aeaweb.org/articles?id=10.1257/jel.20191597). *Journal of Economic Literature*, 58(4).\n",
    "\n",
    "\n",
    "* **Hünermund, P. and Bareinboim, E. (2019)**. [Causal inference and data-fusion in econometrics](https://arxiv.org/abs/1912.09104). *arXiv preprint arXiv:1912.09104*.\n",
    "\n",
    "* **Pearl, J. (2009)**. [Causal inference in statistics: An overview](https://ftp.cs.ucla.edu/pub/stat_ser/r350.pdf). *Statistics Surveys*, 3, 96-146."
   ]
  }
 ],
 "metadata": {
  "celltoolbar": "Slideshow",
  "kernelspec": {
   "display_name": "Python 3",
   "language": "python",
   "name": "python3"
  },
  "language_info": {
   "codemirror_mode": {
    "name": "ipython",
    "version": 3
   },
   "file_extension": ".py",
   "mimetype": "text/x-python",
   "name": "python",
   "nbconvert_exporter": "python",
   "pygments_lexer": "ipython3",
   "version": "3.7.10"
  },
  "pycharm": {
   "stem_cell": {
    "cell_type": "raw",
    "metadata": {
     "collapsed": false
    },
    "source": []
   }
  },
  "varInspector": {
   "cols": {
    "lenName": 16,
    "lenType": 16,
    "lenVar": 40
   },
   "kernels_config": {
    "python": {
     "delete_cmd_postfix": "",
     "delete_cmd_prefix": "del ",
     "library": "var_list.py",
     "varRefreshCmd": "print(var_dic_list())"
    },
    "r": {
     "delete_cmd_postfix": ") ",
     "delete_cmd_prefix": "rm(",
     "library": "var_list.r",
     "varRefreshCmd": "cat(var_dic_list()) "
    }
   },
   "types_to_exclude": [
    "module",
    "function",
    "builtin_function_or_method",
    "instance",
    "_Feature"
   ],
   "window_display": false
  }
 },
 "nbformat": 4,
 "nbformat_minor": 4
}
